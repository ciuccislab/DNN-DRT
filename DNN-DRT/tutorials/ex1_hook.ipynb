{
 "cells": [
  {
   "cell_type": "markdown",
   "id": "aaa12a32",
   "metadata": {},
   "source": [
    "# Deconvolution of electrochemical impedance spectroscopy data using the deep-neural-network-enhanced distribution of relaxation times"
   ]
  },
  {
   "cell_type": "markdown",
   "id": "57a42d8a",
   "metadata": {},
   "source": [
    "In this tutorial, we will show how two use the DNN-DRT model to analyze the synthetic EIS data generated with the \"hook\" model (Section 3.1.4)."
   ]
  },
  {
   "cell_type": "code",
   "execution_count": 1,
   "id": "ff9dc47d",
   "metadata": {},
   "outputs": [],
   "source": [
    "# import the librairies needed\n",
    "import os\n",
    "import numpy as np\n",
    "import torch\n",
    "import torch.nn.functional as F\n",
    "import matplotlib.pyplot as plt\n",
    "import cvxpy as cp\n",
    "import sys\n",
    "from torch import nn\n",
    "import math\n",
    "from math import pi, sin, cos, sqrt, log\n",
    "import compute_DRT"
   ]
  },
  {
   "cell_type": "code",
   "execution_count": 2,
   "id": "78511cba",
   "metadata": {},
   "outputs": [
    {
     "name": "stdout",
     "output_type": "stream",
     "text": [
      "Using device: cpu\n"
     ]
    }
   ],
   "source": [
    "# check the device\n",
    "device = torch.device('cuda' if torch.cuda.is_available() else 'cpu')\n",
    "print('Using device:', device)\n",
    "if device.type == 'cuda':\n",
    "    print(torch.cuda.get_device_name(0))\n",
    "    print('Memory Usage:')\n",
    "    print('Allocated:', round(torch.cuda.memory_allocated(0)/1024**2,3), 'MB')\n",
    "    print('Cached:   ', round(torch.cuda.memory_reserved(0)/1024**2,3), 'MB')\n",
    "    \n",
    "cuda = True if torch.cuda.is_available() else False\n",
    "Tensor = torch.cuda.FloatTensor if cuda else torch.FloatTensor"
   ]
  },
  {
   "cell_type": "code",
   "execution_count": 3,
   "id": "34553f7a",
   "metadata": {},
   "outputs": [],
   "source": [
    "# seed the random number generator\n",
    "np.random.seed(21312)\n",
    "torch.manual_seed(213912);\n",
    "os.environ['PYTHONHASHSEED']=str(213912)"
   ]
  },
  {
   "cell_type": "code",
   "execution_count": 4,
   "id": "d1a3d205",
   "metadata": {},
   "outputs": [],
   "source": [
    "# plot standards\n",
    "plt.rc('text', usetex=True)\n",
    "plt.rc('font', family='serif', size=15)\n",
    "plt.rc('xtick', labelsize=15)\n",
    "plt.rc('ytick', labelsize=15)"
   ]
  },
  {
   "cell_type": "code",
   "execution_count": null,
   "id": "fe894480",
   "metadata": {},
   "outputs": [],
   "source": []
  },
  {
   "cell_type": "markdown",
   "id": "224f0f8d",
   "metadata": {},
   "source": [
    "# 1. Generate the synthetic data"
   ]
  },
  {
   "cell_type": "markdown",
   "id": "cfb036be",
   "metadata": {},
   "source": [
    "## 1.1 Define the ranges of frequencies and timescales"
   ]
  },
  {
   "cell_type": "code",
   "execution_count": 5,
   "id": "62fad6ac",
   "metadata": {},
   "outputs": [],
   "source": [
    "# define frequency range\n",
    "log_freq_min = -2.\n",
    "log_freq_max = 6.\n",
    "N_f = 10*int(log_freq_max-log_freq_min)+1\n",
    "freq_vec = np.logspace(log_freq_min, log_freq_max, num=N_f, endpoint=True).reshape(N_f,1)\n",
    "\n",
    "# define tau range (as in previous papers tau=1/f)\n",
    "log_tau_min = -log_freq_max\n",
    "log_tau_max = -log_freq_min\n",
    "\n",
    "# tau's for ridge regression\n",
    "N_tau_RR = 10*int(log_tau_max-log_tau_min)+1\n",
    "tau_vec_RR = np.logspace(log_tau_min, log_tau_max, num = N_tau_RR, endpoint=True).reshape(N_tau_RR,1)\n",
    "log_tau_vec_RR = np.log(tau_vec_RR)\n",
    "# during pretraining the ANN will take the normalized log of the tau_RR vector as input\n",
    "# for consistency with the NN implementation we will compute the L1 matrix using the following\n",
    "# normalized log(tau) vector\n",
    "log_tau_vec_RR_norm = -1.+2.*(log_tau_vec_RR-log_tau_vec_RR.min())/(log_tau_vec_RR.max()-log_tau_vec_RR.min())\n",
    "\n",
    "# the NN will use a much more finer grid, consistent with differential programming so the tau's of the NN, are far more\n",
    "N_tau_NN = 10*int(log_tau_max-log_tau_min)+1\n",
    "tau_vec_NN = np.logspace(log_tau_min, log_tau_max, num = N_tau_NN, endpoint=True).reshape(N_tau_NN,1)\n",
    "log_tau_vec_NN = np.log(tau_vec_NN)\n",
    "# the ANN will take the normalized log10 of the tau vector as input\n",
    "log_tau_vec_NN_norm = -1.+2.*(log_tau_vec_NN-log_tau_vec_NN.min())/(log_tau_vec_NN.max()-log_tau_vec_NN.min())"
   ]
  },
  {
   "cell_type": "code",
   "execution_count": null,
   "id": "a769cc12",
   "metadata": {},
   "outputs": [],
   "source": []
  },
  {
   "cell_type": "markdown",
   "id": "10f75f0d",
   "metadata": {},
   "source": [
    "## 1.2 Define the circuit parameters"
   ]
  },
  {
   "cell_type": "code",
   "execution_count": 6,
   "id": "1b0d141c",
   "metadata": {},
   "outputs": [],
   "source": [
    "R_inf = 10.\n",
    "sigma_n = 0.5\n",
    "\n",
    "# ZARC 1\n",
    "R_ct_1 = 50.\n",
    "phi_1 = 0.9\n",
    "tau_1 = 1E-4\n",
    "\n",
    "# ZARC 2\n",
    "R_ct_2 = -10. # this enforces the hook\n",
    "phi_2 = 0.9\n",
    "tau_2 = 1E-1"
   ]
  },
  {
   "cell_type": "code",
   "execution_count": null,
   "id": "1d3a199b",
   "metadata": {},
   "outputs": [],
   "source": []
  },
  {
   "cell_type": "markdown",
   "id": "c65cb02d",
   "metadata": {},
   "source": [
    "## 1.3 Define the exact and experimental impedances (see Table 2 in [Link](https://doi.org/10.1016/j.electacta.2022.141499))"
   ]
  },
  {
   "cell_type": "code",
   "execution_count": 7,
   "id": "25ecd32b",
   "metadata": {},
   "outputs": [],
   "source": [
    "# exact impedance\n",
    "T_1 = tau_1**phi_1/R_ct_1\n",
    "T_2 = tau_2**phi_2/R_ct_2\n",
    "\n",
    "Z_exact = R_inf + 1./(1./R_ct_1+T_1*(1j*2.*pi*freq_vec)**phi_1) + 1./(1./R_ct_2+T_2*(1j*2.*pi*freq_vec)**phi_2)\n",
    "\n",
    "# experimental impedance spectrum\n",
    "Z_exp = Z_exact+sigma_n*(np.random.normal(0, 1, Z_exact.shape)+1j*np.random.normal(0, 1, Z_exact.shape))"
   ]
  },
  {
   "cell_type": "code",
   "execution_count": null,
   "id": "423cc60b",
   "metadata": {},
   "outputs": [],
   "source": []
  },
  {
   "cell_type": "markdown",
   "id": "92e3a484",
   "metadata": {},
   "source": [
    "## 1.4 Define the exact DRT (see Table 2 in [Link](https://doi.org/10.1016/j.electacta.2022.141499))"
   ]
  },
  {
   "cell_type": "code",
   "execution_count": 9,
   "id": "e67193d9",
   "metadata": {},
   "outputs": [],
   "source": [
    "# first DRT\n",
    "gamma_exact_RR_1 = (R_ct_1)/(2.*pi)*sin((1.-phi_1)*pi)/(np.cosh(phi_1*np.log(tau_vec_RR/tau_1))-cos((1.-phi_1)*pi))\n",
    "gamma_exact_NN_1 = (R_ct_1)/(2.*pi)*sin((1.-phi_1)*pi)/(np.cosh(phi_1*np.log(tau_vec_NN/tau_1))-cos((1.-phi_1)*pi))\n",
    "# second DRT\n",
    "gamma_exact_RR_2 = (R_ct_2)/(2.*pi)*sin((1.-phi_2)*pi)/(np.cosh(phi_2*np.log(tau_vec_RR/tau_2))-cos((1.-phi_2)*pi))\n",
    "gamma_exact_NN_2 = (R_ct_2)/(2.*pi)*sin((1.-phi_2)*pi)/(np.cosh(phi_2*np.log(tau_vec_NN/tau_2))-cos((1.-phi_2)*pi))\n",
    "# total gamma\n",
    "gamma_exact_RR = gamma_exact_RR_1 + gamma_exact_RR_2\n",
    "gamma_exact_NN = gamma_exact_NN_1 + gamma_exact_NN_2\n",
    "\n",
    "# normalized gamma\n",
    "R_ct = R_ct_1 + R_ct_2\n",
    "gamma_exact_RR_norm = gamma_exact_RR/R_ct\n",
    "gamma_exact_NN_norm = gamma_exact_NN/R_ct"
   ]
  },
  {
   "cell_type": "code",
   "execution_count": null,
   "id": "cff4158c",
   "metadata": {},
   "outputs": [],
   "source": []
  },
  {
   "cell_type": "markdown",
   "id": "0d01222f",
   "metadata": {},
   "source": [
    "## 1.5 Nyquist plot of the experimental and exact impedances"
   ]
  },
  {
   "cell_type": "code",
   "execution_count": 10,
   "id": "ed9f7c2a",
   "metadata": {},
   "outputs": [
    {
     "data": {
      "image/png": "[encoded data removed]",
      "text/plain": [
       "<Figure size 647.2x400 with 1 Axes>"
      ]
     },
     "metadata": {},
     "output_type": "display_data"
    }
   ],
   "source": [
    "plt.plot(np.real(Z_exp), -np.imag(Z_exp), 'o', markersize=8, color='red', label='exp')\n",
    "plt.plot(np.real(Z_exact), -np.imag(Z_exact), linewidth=4, color='black', label='exact')\n",
    "\n",
    "plt.axis([0,70,-10,50])\n",
    "plt.xticks(np.arange(0, 70, step=10))\n",
    "plt.legend(frameon=False, fontsize = 15)\n",
    "plt.gca().set_aspect('equal', adjustable='box')\n",
    "plt.rcParams['text.latex.preamble'] = r'\\usepackage{amsmath}'\n",
    "plt.xlabel(r'$Z_{\\rm re}/\\Omega$', fontsize = 20)\n",
    "plt.ylabel(r'$-Z_{\\rm im}/\\Omega$', fontsize = 20)\n",
    "fig = plt.gcf()\n",
    "fig.set_size_inches(6.472, 4)\n",
    "plt.show()"
   ]
  },
  {
   "cell_type": "code",
   "execution_count": null,
   "id": "1e0eef0e",
   "metadata": {},
   "outputs": [],
   "source": []
  },
  {
   "cell_type": "markdown",
   "id": "8d61f0e2",
   "metadata": {},
   "source": [
    "# 2. Ridge regression (RR) to prepare the pretraining step"
   ]
  },
  {
   "cell_type": "markdown",
   "id": "8fbaf7c0",
   "metadata": {},
   "source": [
    "## 2.1 Conduct RR"
   ]
  },
  {
   "cell_type": "code",
   "execution_count": 11,
   "id": "04277577",
   "metadata": {},
   "outputs": [],
   "source": [
    "# data\n",
    "Z_RR = np.zeros(2*N_f)\n",
    "Z_RR[:N_f] = Z_exp.real.flatten()\n",
    "Z_RR[N_f:] = Z_exp.imag.flatten()\n",
    "\n",
    "# matrices\n",
    "A_re_RR = compute_DRT.compute_A_re(freq_vec, tau_vec_RR)\n",
    "A_im_RR = compute_DRT.compute_A_im(freq_vec, tau_vec_RR)\n",
    "L2_RR = compute_DRT.compute_L2(log_tau_vec_RR_norm)\n",
    "L1_RR = compute_DRT.compute_L1(log_tau_vec_RR_norm)\n",
    "\n",
    "# build matrices for cvxpy\n",
    "lambda_0 = 1.0E-5 \n",
    "A_R0 = np.zeros((2*N_f,1))\n",
    "A_R0[0:N_f,0] = 1.0\n",
    "A_RR = np.hstack( ( A_R0, np.vstack((A_re_RR, A_im_RR)) ) )\n",
    "L1_RR = np.hstack( ( np.zeros((N_tau_RR-1,1)), L1_RR ) )\n",
    "Q = A_RR.T@A_RR + lambda_0*L1_RR.T@L1_RR \n",
    "q = -2.*A_RR.T@Z_RR\n",
    "\n",
    "# Define and solve the CVXPY problem.\n",
    "x_RR = cp.Variable(N_tau_RR+1)\n",
    "prob = cp.Problem(cp.Minimize(cp.quad_form(x_RR, Q) + q.T @ x_RR)) # , [x_RR >= 0]) # we do not need a positive gamma anymore \n",
    "prob.solve();"
   ]
  },
  {
   "cell_type": "code",
   "execution_count": null,
   "id": "2c3a35b5",
   "metadata": {},
   "outputs": [],
   "source": []
  },
  {
   "cell_type": "markdown",
   "id": "15736ed8",
   "metadata": {},
   "source": [
    "## 2.2 Plot of the DRT recovered with RR"
   ]
  },
  {
   "cell_type": "code",
   "execution_count": 12,
   "id": "f5905b95",
   "metadata": {},
   "outputs": [
    {
     "data": {
      "image/png": "[encoded data removed]",
      "text/plain": [
       "<Figure size 647.2x400 with 1 Axes>"
      ]
     },
     "metadata": {},
     "output_type": "display_data"
    }
   ],
   "source": [
    "plt.semilogx(tau_vec_RR, gamma_exact_RR, linewidth=4, color='black', label= 'exact')\n",
    "plt.semilogx(tau_vec_RR, x_RR.value[1:], linewidth=4, color='red', label='DRT')\n",
    "\n",
    "plt.xlim(1E-6, 1E2)\n",
    "plt.legend(frameon=False, fontsize = 15)\n",
    "plt.xlabel(r'$\\tau/\\rm s$', fontsize=20)\n",
    "plt.ylabel(r'$\\gamma/\\Omega$', fontsize=20)\n",
    "fig = plt.gcf()\n",
    "fig.set_size_inches(6.472, 4)\n",
    "plt.show()"
   ]
  },
  {
   "cell_type": "code",
   "execution_count": null,
   "id": "23d03afc",
   "metadata": {},
   "outputs": [],
   "source": []
  },
  {
   "cell_type": "markdown",
   "id": "278746eb",
   "metadata": {},
   "source": [
    "## 2.3 Recover the impedance with the DRT obtained from RR"
   ]
  },
  {
   "cell_type": "code",
   "execution_count": 13,
   "id": "b92e5e50",
   "metadata": {},
   "outputs": [],
   "source": [
    "gamma_0 = x_RR.value[1:]\n",
    "Z_re_pretrain = x_RR.value[0] + A_re_RR@gamma_0\n",
    "Z_im_pretrain = A_im_RR@gamma_0\n",
    "Z_pretrain = Z_re_pretrain + 1j*Z_im_pretrain"
   ]
  },
  {
   "cell_type": "code",
   "execution_count": null,
   "id": "8bd6ee68",
   "metadata": {},
   "outputs": [],
   "source": []
  },
  {
   "cell_type": "markdown",
   "id": "ee813f02",
   "metadata": {},
   "source": [
    "## 2.4 Nyquist plot of the experimental, exact, and RR-recovered impedances"
   ]
  },
  {
   "cell_type": "code",
   "execution_count": 14,
   "id": "19650919",
   "metadata": {},
   "outputs": [
    {
     "data": {
      "image/png": "[encoded data removed]",
      "text/plain": [
       "<Figure size 647.2x400 with 1 Axes>"
      ]
     },
     "metadata": {},
     "output_type": "display_data"
    }
   ],
   "source": [
    "plt.plot(np.real(Z_exp), -np.imag(Z_exp), 'o', markersize=8, color='red', label='exp')\n",
    "plt.plot(np.real(Z_exact), -np.imag(Z_exact), linewidth=4, color='black', label='exact')\n",
    "plt.plot(np.real(Z_pretrain), -np.imag(Z_pretrain), linestyle=':', linewidth=4, color='green', label='pretrain')\n",
    "plt.axis([0,70,-10,50])\n",
    "plt.xticks(np.arange(0, 70, step=10))\n",
    "plt.legend(frameon=False, fontsize = 15)\n",
    "plt.gca().set_aspect('equal', adjustable='box')\n",
    "plt.rcParams['text.latex.preamble'] = r'\\usepackage{amsmath}'\n",
    "plt.xlabel(r'$Z_{\\rm re}/\\Omega$', fontsize = 20)\n",
    "plt.ylabel(r'$-Z_{\\rm im}/\\Omega$', fontsize = 20)\n",
    "fig = plt.gcf()\n",
    "fig.set_size_inches(6.472, 4)\n",
    "plt.show()"
   ]
  },
  {
   "cell_type": "code",
   "execution_count": null,
   "id": "1c200bcf",
   "metadata": {},
   "outputs": [],
   "source": []
  },
  {
   "cell_type": "markdown",
   "id": "067ebeca",
   "metadata": {},
   "source": [
    "# 3. Normalization "
   ]
  },
  {
   "cell_type": "code",
   "execution_count": 15,
   "id": "f886db2f",
   "metadata": {},
   "outputs": [],
   "source": [
    "# First normalize the Zexp based on RR\n",
    "R_inf_RR = x_RR.value[0]\n",
    "R_ct_RR = np.trapz(x_RR.value[1:], log_tau_vec_RR.flatten())\n",
    "Z_exp_norm = (Z_exp-R_inf_RR)/R_ct_RR\n",
    "\n",
    "# Then normalize the gamma the obtained gamma's\n",
    "gamma_RR = x_RR.value[1:].reshape(N_tau_RR,1)\n",
    "gamma_RR_norm = gamma_RR/R_ct_RR"
   ]
  },
  {
   "cell_type": "code",
   "execution_count": null,
   "id": "f7731626",
   "metadata": {},
   "outputs": [],
   "source": []
  },
  {
   "cell_type": "markdown",
   "id": "e7fce5ac",
   "metadata": {},
   "source": [
    "# 4. Pretraining of the deep neural network (DNN)"
   ]
  },
  {
   "cell_type": "markdown",
   "id": "2404ede3",
   "metadata": {},
   "source": [
    "## 4.1 Prepare the vectors"
   ]
  },
  {
   "cell_type": "code",
   "execution_count": 16,
   "id": "159dd530",
   "metadata": {},
   "outputs": [],
   "source": [
    "# gamma from RR and its normalization\n",
    "gamma_RR_torch =  torch.from_numpy(gamma_RR).type(Tensor)\n",
    "gamma_RR_norm_torch =  torch.from_numpy(gamma_RR_norm).type(Tensor)\n",
    "\n",
    "# gamma exact for the NN (we will used it to compute the distances)\n",
    "gamma_exact_NN_torch = torch.from_numpy(gamma_exact_NN).type(Tensor)\n",
    "\n",
    "# torch vectors \n",
    "\n",
    "# log(tau) used for pretraining and full training\n",
    "log_tau_vec_RR_norm_torch = torch.from_numpy(log_tau_vec_RR_norm).type(Tensor)\n",
    "log_tau_vec_NN_norm_torch = torch.from_numpy(log_tau_vec_NN_norm).type(Tensor)\n",
    "\n",
    "# log(tau) used for the integration error computation\n",
    "log_tau_vec_NN_torch = torch.from_numpy(log_tau_vec_NN).type(Tensor)\n",
    "\n",
    "# Z_exp used for inversion\n",
    "Z_exp_re_norm_torch = torch.from_numpy(np.real(Z_exp_norm)).type(Tensor)\n",
    "Z_exp_im_norm_torch = torch.from_numpy(np.imag(Z_exp_norm)).type(Tensor)"
   ]
  },
  {
   "cell_type": "code",
   "execution_count": null,
   "id": "90610803",
   "metadata": {},
   "outputs": [],
   "source": []
  },
  {
   "cell_type": "markdown",
   "id": "95709e6c",
   "metadata": {},
   "source": [
    "## 4.2 Define the DNN (see Section 2.5.4 in [Link](https://doi.org/10.1016/j.electacta.2022.141499))"
   ]
  },
  {
   "cell_type": "code",
   "execution_count": 17,
   "id": "a9ad2aef",
   "metadata": {},
   "outputs": [
    {
     "name": "stdout",
     "output_type": "stream",
     "text": [
      "10657\n"
     ]
    }
   ],
   "source": [
    "class gamma_elu_layer(nn.Module):\n",
    "\n",
    "    def __init__(self, in_features, out_features):\n",
    "        \n",
    "        super().__init__()\n",
    "        \n",
    "        self.linear = nn.Linear(in_features, out_features, bias=True)        \n",
    "        nn.init.xavier_uniform_(self.linear.weight)\n",
    "        nn.init.uniform_(self.linear.bias)\n",
    "\n",
    "    def forward(self, input):\n",
    "        return F.elu(self.linear(input))\n",
    "    \n",
    "class gamma_sine_layer(nn.Module):\n",
    "\n",
    "    def __init__(self, in_features, out_features):\n",
    "        \n",
    "        super().__init__()\n",
    "        \n",
    "        self.linear = nn.Linear(in_features, out_features, bias=True)        \n",
    "        nn.init.xavier_normal_(self.linear.weight)\n",
    "        nn.init.zeros_(self.linear.bias)\n",
    "\n",
    "    def forward(self, input):\n",
    "        return torch.sin(self.linear(input))\n",
    "    \n",
    "class gamma_softplus_layer(nn.Module):\n",
    "\n",
    "    def __init__(self, in_features, out_features):\n",
    "        \n",
    "        super().__init__()\n",
    "        \n",
    "        self.linear = nn.Linear(in_features, out_features, bias=True)        \n",
    "        nn.init.xavier_normal_(self.linear.weight)\n",
    "        nn.init.zeros_(self.linear.bias)\n",
    "\n",
    "    def forward(self, input):\n",
    "        return F.softplus(self.linear(input))\n",
    "    \n",
    "    \n",
    "class gamma_net(nn.Module):\n",
    "    def __init__(self, in_features, hidden_features, hidden_layers, out_features):\n",
    "        super().__init__()\n",
    "        \n",
    "        self.net = []\n",
    "        self.net.append(gamma_sine_layer(in_features, hidden_features))\n",
    "        \n",
    "        for i in range(hidden_layers):\n",
    "            self.net.append(gamma_elu_layer(hidden_features, hidden_features))\n",
    "\n",
    "        # self.net.append(gamma_softplus_layer(hidden_features, out_features)) cannot be used because it enforces positivity\n",
    "        self.net.append(gamma_elu_layer(hidden_features, out_features))\n",
    "        \n",
    "        self.net = nn.Sequential(*self.net)\n",
    "    \n",
    "    def forward(self, coords):\n",
    "        coords = coords.clone().detach().requires_grad_(True) # allows to take derivative w.r.t. input\n",
    "        output = self.net(coords)\n",
    "        return output, coords\n",
    "    \n",
    "# Define the model from the gamma_net class\n",
    "model_gamma = gamma_net(in_features=1, out_features=1, hidden_features=32, hidden_layers=10)\n",
    "\n",
    "if cuda:\n",
    "    model_gamma.cuda()\n",
    "print(compute_DRT.count_parameters(model_gamma))"
   ]
  },
  {
   "cell_type": "code",
   "execution_count": null,
   "id": "2692dd2b",
   "metadata": {},
   "outputs": [],
   "source": []
  },
  {
   "cell_type": "markdown",
   "id": "8b07ba25",
   "metadata": {},
   "source": [
    "## 4.3 Pretraining step (see Section 2.5.2 in [Link](https://doi.org/10.1016/j.electacta.2022.141499))"
   ]
  },
  {
   "cell_type": "code",
   "execution_count": 18,
   "id": "97be0ef9",
   "metadata": {},
   "outputs": [
    {
     "name": "stdout",
     "output_type": "stream",
     "text": [
      "iter=0; loss=1.514880e+01\n",
      "iter=200; loss=2.948517e-01\n",
      "iter=400; loss=1.003111e-01\n",
      "iter=600; loss=1.370064e-01\n",
      "iter=800; loss=6.384017e-02\n",
      "iter=1000; loss=5.918062e-02\n",
      "iter=1200; loss=5.367376e-02\n",
      "iter=1400; loss=5.729313e-02\n",
      "iter=1600; loss=3.343758e-02\n",
      "iter=1800; loss=6.915269e-03\n",
      "iter=2000; loss=2.464297e-03\n"
     ]
    }
   ],
   "source": [
    "# Let us first pretrain the model against the RR with the following loss\n",
    "def loss_pretrain_fn(x, gamma):\n",
    "    MSE = torch.sum((x - gamma)**2)    \n",
    "    return MSE\n",
    "\n",
    "# With the following parameters\n",
    "    \n",
    "learning_rate = 1e-3\n",
    "max_iters = 2001\n",
    "optimizer = torch.optim.Adam(model_gamma.parameters(), lr=learning_rate)#, weight_decay=1E-5)\n",
    "\n",
    "# To compute the pre-training loss, we need to port some numpy vectors to pytorch, for now we limit ourselves to two (we will have more later)\n",
    "\n",
    "# Let us now pretrain the model\n",
    "\n",
    "# numpy arrays where solved data will be saved\n",
    "loss_pretrain_store = np.array([])\n",
    "gamma_NN_pretrain_store = np.zeros((N_tau_RR, max_iters+1))\n",
    "\n",
    "# pretrain torch\n",
    "gamma_NN_pretrain_torch, coords = model_gamma(log_tau_vec_RR_norm_torch)\n",
    "loss_pretrain = loss_pretrain_fn(gamma_NN_pretrain_torch, gamma_RR_norm_torch)\n",
    "\n",
    "# store gamma from NN\n",
    "gamma_NN_pretrain_store[:, 0] = gamma_NN_pretrain_torch.detach().cpu().numpy().flatten()\n",
    "# loss and store first value\n",
    "loss_pretrain_store = np.append(loss_pretrain_store, loss_pretrain.item())\n",
    "\n",
    "for t in range(max_iters):\n",
    "\n",
    "    # Forward pass: compute predicted y by passing x to the model.\n",
    "    gamma_NN_pretrain_torch, coords = model_gamma(log_tau_vec_RR_norm_torch)\n",
    "    \n",
    "    # Compute the loss\n",
    "    loss = loss_pretrain_fn(gamma_NN_pretrain_torch, gamma_RR_norm_torch)\n",
    "    \n",
    "    # set grads to zero\n",
    "    optimizer.zero_grad()\n",
    "\n",
    "    # backward pass: compute gradient of the loss with respect to model parameters\n",
    "    loss.backward()\n",
    "\n",
    "    # the step function of the Optimizer updates the NN parameters\n",
    "    optimizer.step()\n",
    "    \n",
    "    # save loss\n",
    "    loss_pretrain_store = np.append(loss_pretrain_store, loss.item())\n",
    "    \n",
    "    # store gamma\n",
    "    gamma_NN_pretrain_store[:, t+1] = gamma_NN_pretrain_torch.detach().cpu().numpy().flatten()\n",
    "    \n",
    "    # and print it\n",
    "    if not t%200:\n",
    "        print('iter=%d; loss=%e' % (t, loss.item()))"
   ]
  },
  {
   "cell_type": "code",
   "execution_count": null,
   "id": "fb523cb5",
   "metadata": {},
   "outputs": [],
   "source": []
  },
  {
   "cell_type": "markdown",
   "id": "c15cdaf3",
   "metadata": {},
   "source": [
    "## 4.4 Plot of the exact, RR-recovered, and DNN-pretrained DRTs"
   ]
  },
  {
   "cell_type": "code",
   "execution_count": 21,
   "id": "d364a297",
   "metadata": {},
   "outputs": [
    {
     "data": {
      "image/png": "[encoded data removed]",
      "text/plain": [
       "<Figure size 647.2x400 with 1 Axes>"
      ]
     },
     "metadata": {},
     "output_type": "display_data"
    }
   ],
   "source": [
    "plt.semilogx(tau_vec_RR, gamma_exact_RR_norm, linewidth=4, color='blue', label= 'exact')\n",
    "plt.semilogx(tau_vec_RR, gamma_RR_norm, linewidth=4, color='black', label='RR') \n",
    "plt.semilogx(tau_vec_RR, gamma_NN_pretrain_torch.detach().cpu().numpy().flatten(), linestyle=':',linewidth=4,color='green', label='pretrain') \n",
    "\n",
    "plt.xlim(1E-6, 1E2)\n",
    "plt.legend(frameon=False, fontsize = 15)\n",
    "plt.xlabel(r'$\\tau/\\rm s$', fontsize=20)\n",
    "plt.ylabel(r'$\\gamma/\\Omega$', fontsize=20)\n",
    "fig = plt.gcf()\n",
    "fig.set_size_inches(6.472, 4)\n",
    "plt.show()"
   ]
  },
  {
   "cell_type": "code",
   "execution_count": null,
   "id": "a503afb9",
   "metadata": {},
   "outputs": [],
   "source": []
  },
  {
   "cell_type": "markdown",
   "id": "c9cff377",
   "metadata": {},
   "source": [
    "## 4.5 Recover the impedance with the DRT outputted by the pretained DNN"
   ]
  },
  {
   "cell_type": "code",
   "execution_count": 22,
   "id": "ccb27a80",
   "metadata": {},
   "outputs": [],
   "source": [
    "gamma_0 = gamma_NN_pretrain_store[:,-1]*R_ct_RR\n",
    "Z_re_pretrain = x_RR.value[0] + A_re_RR@gamma_0\n",
    "Z_im_pretrain = A_im_RR@gamma_0\n",
    "Z_pretrain = Z_re_pretrain + 1j*Z_im_pretrain"
   ]
  },
  {
   "cell_type": "code",
   "execution_count": null,
   "id": "9eb5ba70",
   "metadata": {},
   "outputs": [],
   "source": []
  },
  {
   "cell_type": "markdown",
   "id": "c50a6379",
   "metadata": {},
   "source": [
    "## 4.6 Nyquist plot of the experimental, exact, and DNN-pretrained impedances"
   ]
  },
  {
   "cell_type": "code",
   "execution_count": 23,
   "id": "bfe0277e",
   "metadata": {},
   "outputs": [
    {
     "data": {
      "image/png": "[encoded data removed]",
      "text/plain": [
       "<Figure size 500x400 with 1 Axes>"
      ]
     },
     "metadata": {},
     "output_type": "display_data"
    }
   ],
   "source": [
    "plt.plot(np.real(Z_exp), -np.imag(Z_exp), 'o', markersize=8, color='red', label='exp')\n",
    "plt.plot(np.real(Z_exact), -np.imag(Z_exact), linewidth=4, color='black', label='exact')\n",
    "plt.plot(np.real(Z_pretrain), -np.imag(Z_pretrain), linestyle=':', linewidth=4, color='green', label='pretrain')\n",
    "\n",
    "plt.axis([0,100,-10,40])\n",
    "# plt.xticks(np.arange(0, 100, step=20))\n",
    "plt.legend(frameon=False, fontsize = 15)\n",
    "plt.gca().set_aspect('equal', adjustable='box')\n",
    "plt.rcParams['text.latex.preamble'] = r'\\usepackage{amsmath}'\n",
    "plt.xlabel(r'$Z_{\\rm re}/\\Omega$', fontsize = 20)\n",
    "plt.ylabel(r'$-Z_{\\rm im}/\\Omega$', fontsize = 20)\n",
    "fig = plt.gcf()\n",
    "fig.set_size_inches(5, 4)\n",
    "plt.show()"
   ]
  },
  {
   "cell_type": "code",
   "execution_count": null,
   "id": "df3d3ad3",
   "metadata": {},
   "outputs": [],
   "source": []
  },
  {
   "cell_type": "markdown",
   "id": "1a9948fe",
   "metadata": {},
   "source": [
    "# 5. Training of the DNN"
   ]
  },
  {
   "cell_type": "markdown",
   "id": "8cb79778",
   "metadata": {},
   "source": [
    "## 5.1 Preprare the training and define the training loss given in (9 [Link](https://doi.org/10.1016/j.electacta.2022.141499))"
   ]
  },
  {
   "cell_type": "code",
   "execution_count": 24,
   "id": "b0afc3a4",
   "metadata": {},
   "outputs": [
    {
     "name": "stdout",
     "output_type": "stream",
     "text": [
      "0.012500000000000011\n",
      "10657\n",
      "10657\n"
     ]
    }
   ],
   "source": [
    "# data used in NN is transformed to a pytorch tensor\n",
    "A_re = compute_DRT.compute_A_re(freq_vec, tau_vec_NN)\n",
    "A_im = compute_DRT.compute_A_im(freq_vec, tau_vec_NN)\n",
    "\n",
    "A_re_torch = torch.from_numpy(A_re).type(Tensor)\n",
    "A_im_torch = torch.from_numpy(A_im).type(Tensor)\n",
    "\n",
    "def first_derivative(y, x):\n",
    "    grad_outputs = torch.ones_like(y)\n",
    "    first_derivative_out = torch.autograd.grad(y, [x], grad_outputs=grad_outputs, create_graph=True)[0]\n",
    "    return first_derivative_out\n",
    "\n",
    "def second_derivative(y, x):\n",
    "    first_derivative_out = first_derivative(y, x)    \n",
    "    second_derivative_out = first_derivative(first_derivative_out, x)    \n",
    "    return second_derivative_out\n",
    "\n",
    "Delta_log_tau = abs(log_tau_vec_NN_norm[2]-log_tau_vec_NN_norm[1]).item()\n",
    "beta = 0.5\n",
    "alpha = beta*Delta_log_tau\n",
    "print(alpha)\n",
    "\n",
    "def loss_fn(R_inf, gamma, log_tau_norm, A_re, A_im, lambda_0, alpha, Z_re, Z_im):\n",
    "    \n",
    "    MSE = 0.0     \n",
    "    MSE_re = torch.sum((R_inf + torch.matmul(A_re,gamma) - Z_re)**2)\n",
    "    MSE_im = torch.sum((torch.matmul(A_im,gamma) - Z_im)**2)\n",
    "    \n",
    "    MSE_D1 = torch.sum(1/alpha*torch.clamp(-gamma[1:]*gamma[:-1], 0, alpha) )\n",
    "    MSE_D2 = torch.sum(2/alpha*torch.clamp(-gamma[2:]*gamma[:-2], 0, alpha/2) )\n",
    "    MSE_D = MSE_D1 + MSE_D2\n",
    "    \n",
    "    grad = first_derivative(gamma, log_tau_norm).flatten()\n",
    "    zeta = 1/(4*(lambda_0**2))\n",
    "    lambda_delP = 1/zeta*(torch.sqrt(grad.detach()**4+2*zeta)-grad.detach()**2)\n",
    "    MSE_der = torch.trapz(lambda_delP*grad**2,log_tau_norm.detach().flatten())\n",
    "        \n",
    "    MSE = MSE + MSE_re + MSE_im + MSE_D + MSE_der \n",
    "    return MSE\n",
    "\n",
    "print(compute_DRT.count_parameters(model_gamma))\n",
    "\n",
    "# saving the model for earlystop, min loss, and optimal\n",
    "check_Early_stop = 0\n",
    "t_min_loss_loop = 0\n",
    "distance_opt = np.inf\n",
    "\n",
    "learning_rate = 1e-4\n",
    "max_iters = 20001\n",
    "\n",
    "optimizer = torch.optim.Adam(model_gamma.parameters(), lr=learning_rate)#, weight_decay=1E-5)\n",
    "\n",
    "R_inf_torch = torch.tensor([0.0], requires_grad=True, device=\"cpu\").type(Tensor)\n",
    "optimizer.add_param_group({'params': R_inf_torch})\n",
    "print(compute_DRT.count_parameters(model_gamma))\n",
    "\n",
    "# we will store key neural network results here\n",
    "loss_store = np.array([])\n",
    "distance_store = np.array([])\n",
    "gamma_NN_store = torch.zeros((N_tau_NN,max_iters+1)).type(Tensor)\n",
    "R_inf_store = torch.zeros(max_iters+1).type(Tensor)\n",
    "\n",
    "# the gamma is stored here\n",
    "gamma_NN_norm, coords = model_gamma(log_tau_vec_NN_norm_torch)\n",
    "gamma_NN_store[:, 0] = gamma_NN_norm.detach().flatten()\n",
    "    \n",
    "loss = loss_fn(R_inf_torch, gamma_NN_norm, coords, A_re_torch, A_im_torch, lambda_0, alpha, Z_exp_re_norm_torch, Z_exp_im_norm_torch)\n",
    "\n",
    "loss_store = np.append(loss_store, loss.item())\n",
    "R_inf_store[0] = R_inf_RR + R_ct_RR*R_inf_torch[0].detach().item()\n",
    "\n",
    "squared_distance = torch.trapz((R_ct_RR*gamma_NN_norm.detach().T-gamma_exact_NN_torch.T)**2,log_tau_vec_NN_norm_torch.T)\n",
    "distance_store = np.append(distance_store, sqrt(squared_distance.item()))"
   ]
  },
  {
   "cell_type": "code",
   "execution_count": null,
   "id": "392a8cb4",
   "metadata": {},
   "outputs": [],
   "source": []
  },
  {
   "cell_type": "markdown",
   "id": "665ebfd5",
   "metadata": {},
   "source": [
    "## 5.2 Training step (see Section 2.5.3 in [Link](https://doi.org/10.1016/j.electacta.2022.141499))"
   ]
  },
  {
   "cell_type": "code",
   "execution_count": 22,
   "id": "276068e4",
   "metadata": {},
   "outputs": [
    {
     "name": "stdout",
     "output_type": "stream",
     "text": [
      "iter=0; loss=3.452690e+00\n",
      "iter=200; loss=1.665039e+00\n",
      "iter=400; loss=8.042604e-02\n",
      "iter=600; loss=4.398366e-02\n",
      "iter=800; loss=4.790155e-02\n",
      "iter=1000; loss=4.285500e-02\n",
      "iter=1200; loss=3.393151e-02\n",
      "iter=1400; loss=4.290122e-02\n",
      "iter=1600; loss=3.299243e-02\n",
      "iter=1800; loss=3.527259e-02\n",
      "iter=2000; loss=2.849651e-02\n",
      "iter=2200; loss=6.113912e-02\n",
      "iter=2400; loss=2.820353e-02\n",
      "iter=2600; loss=3.395237e-02\n",
      "iter=2800; loss=2.606017e-02\n",
      "iter=3000; loss=2.581480e-02\n",
      "iter=3200; loss=2.646800e-02\n",
      "iter=3400; loss=2.820117e-02\n",
      "iter=3600; loss=2.658830e-02\n",
      "iter=3800; loss=2.598836e-02\n",
      "iter=4000; loss=3.546007e-02\n",
      "iter=4200; loss=1.112843e-01\n",
      "iter=4400; loss=2.523515e-02\n",
      "iter=4600; loss=2.509240e-02\n",
      "iter=4800; loss=4.745885e-02\n",
      "iter=5000; loss=2.628486e-02\n",
      "iter=5200; loss=3.233264e-02\n",
      "iter=5400; loss=2.457407e-02\n",
      "iter=5600; loss=2.771097e-02\n",
      "iter=5800; loss=2.611205e-02\n",
      "iter=6000; loss=3.248700e-02\n",
      "iter=6200; loss=2.727965e-02\n",
      "iter=6400; loss=4.645658e-02\n",
      "iter=6600; loss=2.945559e-02\n",
      "iter=6800; loss=2.580476e-02\n",
      "iter=7000; loss=2.401185e-02\n",
      "iter=7200; loss=3.750770e-02\n",
      "iter=7400; loss=2.461386e-02\n",
      "iter=7600; loss=2.448070e-02\n",
      "iter=7800; loss=2.437037e-02\n",
      "iter=8000; loss=3.563221e-02\n",
      "iter=8200; loss=2.520671e-02\n",
      "iter=8400; loss=2.575351e-02\n",
      "iter=8600; loss=2.603875e-02\n",
      "iter=8800; loss=2.792777e-02\n",
      "iter=9000; loss=5.389742e-02\n",
      "iter=9200; loss=4.223122e-02\n",
      "iter=9400; loss=5.154708e-02\n",
      "iter=9600; loss=2.418875e-02\n",
      "iter=9800; loss=4.233597e-02\n",
      "iter=10000; loss=2.363256e-02\n",
      "iter=10200; loss=2.553898e-02\n",
      "iter=10400; loss=2.502117e-02\n",
      "iter=10600; loss=2.585725e-02\n",
      "iter=10800; loss=2.423031e-02\n",
      "iter=11000; loss=2.409796e-02\n",
      "iter=11200; loss=3.691334e-02\n",
      "iter=11400; loss=2.568587e-02\n",
      "iter=11600; loss=2.355707e-02\n",
      "iter=11800; loss=2.539230e-02\n",
      "iter=12000; loss=2.958439e-02\n",
      "iter=12200; loss=2.413274e-02\n",
      "iter=12400; loss=2.968403e-02\n",
      "iter=12600; loss=2.355848e-02\n",
      "iter=12800; loss=2.356793e-02\n",
      "iter=13000; loss=2.642298e-02\n",
      "iter=13200; loss=3.360261e-02\n",
      "iter=13400; loss=2.565672e-02\n",
      "iter=13600; loss=2.324605e-02\n",
      "iter=13800; loss=2.311466e-02\n",
      "iter=14000; loss=2.440817e-02\n",
      "iter=14200; loss=6.982042e-02\n",
      "iter=14400; loss=2.611526e-02\n",
      "iter=14600; loss=2.349555e-02\n",
      "iter=14800; loss=3.968336e-02\n",
      "iter=15000; loss=2.429658e-02\n",
      "iter=15200; loss=3.427026e-02\n",
      "iter=15400; loss=2.459560e-02\n",
      "iter=15600; loss=2.392426e-02\n",
      "iter=15800; loss=2.549976e-02\n",
      "iter=16000; loss=2.347921e-02\n",
      "iter=16200; loss=2.326428e-02\n",
      "iter=16400; loss=2.749688e-02\n",
      "iter=16600; loss=2.435869e-02\n",
      "iter=16800; loss=2.827097e-02\n",
      "iter=17000; loss=2.729540e-02\n",
      "iter=17200; loss=2.343072e-02\n",
      "iter=17400; loss=2.422041e-02\n",
      "iter=17600; loss=2.641527e-02\n",
      "iter=17800; loss=2.396584e-02\n",
      "iter=18000; loss=3.021176e-02\n",
      "iter=18200; loss=2.145193e-01\n",
      "iter=18400; loss=2.358843e-02\n",
      "iter=18600; loss=2.526549e-02\n",
      "iter=18800; loss=2.315535e-02\n",
      "iter=19000; loss=2.392226e-02\n",
      "iter=19200; loss=2.401238e-02\n",
      "iter=19400; loss=2.397810e-02\n",
      "iter=19600; loss=2.433596e-02\n",
      "iter=19800; loss=2.413061e-02\n",
      "iter=20000; loss=2.369387e-02\n"
     ]
    }
   ],
   "source": [
    "for t in range(max_iters):\n",
    "\n",
    "    # Forward pass: compute predicted y by passing x to the model.\n",
    "    gamma_NN, coords = model_gamma(log_tau_vec_NN_norm_torch)\n",
    "\n",
    "    # Compute the loss\n",
    "    loss = loss_fn(R_inf_torch, gamma_NN, coords, A_re_torch, A_im_torch, lambda_0, alpha, Z_exp_re_norm_torch, Z_exp_im_norm_torch)\n",
    "    \n",
    "    optimizer.zero_grad()\n",
    "    loss.backward()\n",
    "    optimizer.step()\n",
    "    \n",
    "    # save loss\n",
    "    loss_store = np.append(loss_store, loss.item())\n",
    "    if check_Early_stop ==0:\n",
    "        if(len(loss_store)>1):\n",
    "            # check for early stop iteration\n",
    "            if (np.abs(loss_store[t]-loss_store[t-1]))<1E-10:\n",
    "                torch.save(model_gamma.state_dict(), './results/model_gamma_EStop.pth')\n",
    "                iter_Early_Stop = t # to get the same iter as main.plot iter\n",
    "                check_Early_stop = 1\n",
    "                    \n",
    "    # store gamma\n",
    "    gamma_NN_store[:, t+1] = R_ct_RR*gamma_NN.detach().flatten()\n",
    "    \n",
    "    # save distance\n",
    "    squared_distance = torch.trapz((R_ct_RR*gamma_NN.detach().T-gamma_exact_NN_torch.T)**2,log_tau_vec_NN_norm_torch.T)\n",
    "    distance_store = np.append(distance_store, sqrt(squared_distance.item()))\n",
    "    \n",
    "    # save of the optimal model\n",
    "    distance_loc = sqrt(squared_distance)\n",
    "    if distance_loc<distance_opt:\n",
    "        torch.save(model_gamma.state_dict(), './results/model_gamma_opt.pth')\n",
    "        Iter_Opt = t+1\n",
    "        distance_opt = distance_loc\n",
    "    \n",
    "    # store R_inf\n",
    "    R_inf_store[t+1] = R_inf_RR + R_ct_RR*R_inf_torch[0].detach().item()\n",
    "\n",
    "    # and print it\n",
    "    if not t%200:\n",
    "        print('iter=%d; loss=%e' % (t, loss.item()))\n",
    "        \n",
    "gamma_0 = gamma_NN_pretrain_store[:,-1]*R_ct_RR\n",
    "Z_re_pretrain = x_RR.value[0] + A_re_RR@gamma_0\n",
    "Z_im_pretrain = A_im_RR@gamma_0\n",
    "Z_pretrain = Z_re_pretrain + 1j*Z_im_pretrain\n",
    "\n",
    "iter_opt = np.argmin(distance_store)\n",
    "iter_min_loss = np.argmin(loss_store)\n",
    "iter_early_stop = np.flatnonzero(np.abs(np.diff(loss_store))<1E-8)\n",
    "iter_guess = 2000\n",
    "\n",
    "gamma_early_stop = gamma_NN_store[:,iter_early_stop[1]]\n",
    "gamma_opt = gamma_NN_store[:,iter_opt]\n",
    "gamma_min_loss = gamma_NN_store[:,iter_min_loss]\n",
    "gamma_guess = gamma_NN_store[:,iter_guess]\n",
    "\n",
    "Z_re_early_stop = R_inf_store[iter_early_stop[1]] + torch.matmul(A_re_torch,gamma_early_stop)\n",
    "Z_im_early_stop = torch.matmul(A_im_torch,gamma_early_stop)\n",
    "Z_early_stop = Z_re_early_stop.cpu().numpy()+ 1j*Z_im_early_stop.cpu().numpy()\n",
    "\n",
    "Z_re_opt = R_inf_store[iter_opt] + torch.matmul(A_re_torch,gamma_opt)\n",
    "Z_im_opt = torch.matmul(A_im_torch,gamma_opt)\n",
    "Z_opt = Z_re_opt.cpu().numpy()+ 1j*Z_im_opt.cpu().numpy()\n",
    "\n",
    "Z_re_min_loss = R_inf_store[iter_min_loss] + torch.matmul(A_re_torch,gamma_min_loss)\n",
    "Z_im_min_loss = torch.matmul(A_im_torch,gamma_min_loss)\n",
    "Z_min_loss = Z_re_min_loss.cpu().numpy()+ 1j*Z_im_min_loss.cpu().numpy()\n",
    "\n",
    "Z_re_guess = R_inf_store[iter_min_loss] + torch.matmul(A_re_torch,gamma_guess)\n",
    "Z_im_guess = torch.matmul(A_im_torch,gamma_guess)\n",
    "Z_guess = Z_re_guess.cpu().numpy()+ 1j*Z_im_guess.cpu().numpy()"
   ]
  },
  {
   "cell_type": "code",
   "execution_count": null,
   "id": "206c60ef",
   "metadata": {},
   "outputs": [],
   "source": [
    "##"
   ]
  },
  {
   "cell_type": "markdown",
   "id": "1fb01e5d",
   "metadata": {},
   "source": [
    "## 5.3 Plot of the exact, DNN-pretrained, and DNN-trained DRTs (Figure 7 (a) in [Link](https://doi.org/10.1016/j.electacta.2022.141499))"
   ]
  },
  {
   "cell_type": "code",
   "execution_count": 36,
   "id": "4d47ffc8",
   "metadata": {},
   "outputs": [
    {
     "data": {
      "image/png": "[encoded data removed]",
      "text/plain": [
       "<Figure size 647.2x400 with 1 Axes>"
      ]
     },
     "metadata": {},
     "output_type": "display_data"
    }
   ],
   "source": [
    "plt.semilogx(tau_vec_RR, gamma_exact_RR.flatten(), linewidth=4, color='red', label= 'exact')\n",
    "plt.semilogx(tau_vec_RR, x_RR.value[1:], linestyle=':',linewidth=4, color='green', label='pretrain') \n",
    "plt.semilogx(tau_vec_NN, gamma_opt.cpu().flatten(), '-', linewidth=4, color='blue', label='DNN-DRT') \n",
    "\n",
    "plt.xlim(1E-6, 1E2)\n",
    "plt.legend(frameon=False, fontsize = 15)\n",
    "plt.xlabel(r'$\\tau/\\rm s$', fontsize=20)\n",
    "plt.ylabel(r'$\\gamma/\\Omega$', fontsize=20)\n",
    "fig = plt.gcf()\n",
    "fig.set_size_inches(6.472, 4)\n",
    "plt.show()"
   ]
  },
  {
   "cell_type": "code",
   "execution_count": null,
   "id": "2d21f292",
   "metadata": {},
   "outputs": [],
   "source": []
  },
  {
   "cell_type": "markdown",
   "id": "0fee4350",
   "metadata": {},
   "source": [
    "## 5.4 Nyquist plot of the experimental, exact, DNN-pretrained, and DNN-trained impedances (Figure 7 (b) in [Link](https://doi.org/10.1016/j.electacta.2022.141499))"
   ]
  },
  {
   "cell_type": "code",
   "execution_count": 37,
   "id": "0887f6cd",
   "metadata": {},
   "outputs": [
    {
     "data": {
      "image/png": "[encoded data removed]",
      "text/plain": [
       "<Figure size 647.2x400 with 1 Axes>"
      ]
     },
     "metadata": {},
     "output_type": "display_data"
    }
   ],
   "source": [
    "plt.plot(np.real(Z_exp), -np.imag(Z_exp), 'o', markersize=8, color='red', label='exp')\n",
    "plt.plot(np.real(Z_exact), -np.imag(Z_exact), linewidth=4, color='black', label='exact')\n",
    "plt.plot(np.real(Z_pretrain), -np.imag(Z_pretrain), linestyle=':', linewidth=4, color='green', label='pretrain')\n",
    "plt.plot(np.real(Z_opt), -np.imag(Z_opt), linewidth=4, color='blue', label='DNN-DRT')\n",
    "\n",
    "plt.axis([0,70,-10,50])\n",
    "plt.xticks(np.arange(0, 70, step=10))\n",
    "plt.legend(frameon=False, fontsize = 15, loc='upper right')\n",
    "plt.gca().set_aspect('equal', adjustable='box')\n",
    "plt.rcParams['text.latex.preamble'] = r'\\usepackage{amsmath}'\n",
    "plt.xlabel(r'$Z_{\\rm re}/\\Omega$', fontsize = 20)\n",
    "plt.ylabel(r'$-Z_{\\rm im}/\\Omega$', fontsize = 20)\n",
    "fig = plt.gcf()\n",
    "fig.set_size_inches(6.472, 4)\n",
    "plt.show()"
   ]
  },
  {
   "cell_type": "code",
   "execution_count": null,
   "id": "e003f670",
   "metadata": {},
   "outputs": [],
   "source": []
  },
  {
   "cell_type": "code",
   "execution_count": null,
   "id": "c25e97d9",
   "metadata": {},
   "outputs": [],
   "source": []
  }
 ],
 "metadata": {
  "kernelspec": {
   "display_name": "Python 3 (ipykernel)",
   "language": "python",
   "name": "python3"
  },
  "language_info": {
   "codemirror_mode": {
    "name": "ipython",
    "version": 3
   },
   "file_extension": ".py",
   "mimetype": "text/x-python",
   "name": "python",
   "nbconvert_exporter": "python",
   "pygments_lexer": "ipython3",
   "version": "3.9.13"
  }
 },
 "nbformat": 4,
 "nbformat_minor": 5
}
