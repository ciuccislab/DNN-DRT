{
 "cells": [
  {
   "cell_type": "markdown",
   "id": "aef91b7b",
   "metadata": {},
   "source": [
    "# Deconvolution of electrochemical impedance spectroscopy data using the deep-neural-network-enhanced distribution of relaxation times"
   ]
  },
  {
   "cell_type": "markdown",
   "id": "b6a22145",
   "metadata": {},
   "source": [
    "In this tutorial, we will show how two use the DNN-DRT model to analyze the synthetic EIS data generated with the \"hook\" model (Section 3.2.2.2)."
   ]
  },
  {
   "cell_type": "code",
   "execution_count": 1,
   "id": "bfa115f8",
   "metadata": {},
   "outputs": [],
   "source": [
    "# import the librairies needed\n",
    "import os\n",
    "import numpy as np\n",
    "import torch\n",
    "import torch.nn.functional as F\n",
    "import matplotlib.pyplot as plt\n",
    "import cvxpy as cp\n",
    "import sys\n",
    "from torch import nn\n",
    "import math\n",
    "from math import pi, sin, cos, sqrt, log\n",
    "import compute_DRT\n",
    "import pandas as pd"
   ]
  },
  {
   "cell_type": "code",
   "execution_count": 2,
   "id": "fb55941b",
   "metadata": {},
   "outputs": [
    {
     "name": "stdout",
     "output_type": "stream",
     "text": [
      "Using device: cpu\n"
     ]
    }
   ],
   "source": [
    "# check the device\n",
    "device = torch.device('cuda' if torch.cuda.is_available() else 'cpu')\n",
    "print('Using device:', device)\n",
    "if device.type == 'cuda':\n",
    "    print(torch.cuda.get_device_name(0))\n",
    "    print('Memory Usage:')\n",
    "    print('Allocated:', round(torch.cuda.memory_allocated(0)/1024**2,3), 'MB')\n",
    "    print('Cached:   ', round(torch.cuda.memory_reserved(0)/1024**2,3), 'MB')\n",
    "    \n",
    "cuda = True if torch.cuda.is_available() else False\n",
    "Tensor = torch.cuda.FloatTensor if cuda else torch.FloatTensor"
   ]
  },
  {
   "cell_type": "code",
   "execution_count": 3,
   "id": "86467151",
   "metadata": {},
   "outputs": [],
   "source": [
    "# plot standards\n",
    "plt.rc('text', usetex=True)\n",
    "plt.rc('font', family='serif', size=15)\n",
    "plt.rc('xtick', labelsize=15)\n",
    "plt.rc('ytick', labelsize=15)"
   ]
  },
  {
   "cell_type": "code",
   "execution_count": null,
   "id": "41acc292",
   "metadata": {},
   "outputs": [],
   "source": []
  },
  {
   "cell_type": "markdown",
   "id": "357644be",
   "metadata": {},
   "source": [
    "# 1. Experimental data"
   ]
  },
  {
   "cell_type": "markdown",
   "id": "0dc7504a",
   "metadata": {},
   "source": [
    "## 1.1 Define the ranges of frequencies and timescales, and import the EIS data"
   ]
  },
  {
   "cell_type": "code",
   "execution_count": 4,
   "id": "f2fbf068",
   "metadata": {},
   "outputs": [],
   "source": [
    "# load of the data\n",
    "df = pd.read_csv('EIS_fuel-cell-hook.csv')   \n",
    "N_f = df.shape[0]\n",
    "freq_vec = df['Freq/Hz'].to_numpy().reshape(N_f,1)\n",
    "Z_re = df['Re(Z)/mohm cm2'].to_numpy().reshape(N_f,1)\n",
    "Z_im = -df['Minus Im(Z) / mohm cm2'].to_numpy().reshape(N_f,1)\n",
    "Z_exp = Z_re + 1j*Z_im # experimental impedance spectrum\n",
    "\n",
    "# # define tau range\n",
    "log_tau_min = -4\n",
    "log_tau_max = 4\n",
    "\n",
    "# tau's for ridge regression\n",
    "N_tau_RR = 10*int(log_tau_max-log_tau_min)+1\n",
    "tau_vec_RR = np.logspace(log_tau_min, log_tau_max, num = N_tau_RR, endpoint=True).reshape(N_tau_RR,1)\n",
    "log_tau_vec_RR = np.log(tau_vec_RR)\n",
    "# during pretraining the ANN will take the normalized log of the tau_RR vector as input\n",
    "# for consistency with the NN implementation we will compute the L1 matrix using the following\n",
    "# normalized log(tau) vector\n",
    "log_tau_vec_RR_norm = -1.+2.*(log_tau_vec_RR-log_tau_vec_RR.min())/(log_tau_vec_RR.max()-log_tau_vec_RR.min())\n",
    "\n",
    "# the NN will use a much more finer grid, consistent with differential programming\n",
    "# so the tau's of the NN, are far more\n",
    "N_tau_NN = 10*int(log_tau_max-log_tau_min)+1\n",
    "tau_vec_NN = np.logspace(log_tau_min, log_tau_max, num = N_tau_NN, endpoint=True).reshape(N_tau_NN,1)\n",
    "log_tau_vec_NN = np.log(tau_vec_NN)\n",
    "# the ANN will take the normalized log10 of the tau vector as input\n",
    "log_tau_vec_NN_norm = -1.+2.*(log_tau_vec_NN-log_tau_vec_NN.min())/(log_tau_vec_NN.max()-log_tau_vec_NN.min())"
   ]
  },
  {
   "cell_type": "code",
   "execution_count": null,
   "id": "54522298",
   "metadata": {},
   "outputs": [],
   "source": []
  },
  {
   "cell_type": "markdown",
   "id": "2197b866",
   "metadata": {},
   "source": [
    "# 4. Pretraining of the deep neural network (DNN)\n",
    "\n",
    "## 1.2 Define the parameters of the equivalent circuit model (ECM)"
   ]
  },
  {
   "cell_type": "code",
   "execution_count": 5,
   "id": "f86c28f2",
   "metadata": {},
   "outputs": [],
   "source": [
    "R_inf = 65.\n",
    "\n",
    "# ZARC 1\n",
    "R_ct_1 = 345.\n",
    "phi_1 = 0.65\n",
    "tau_1 = 1E-2\n",
    "\n",
    "# ZARC 2\n",
    "R_ct_2 = -140. # this enforces the hook\n",
    "phi_2 = 0.75\n",
    "tau_2 = 1E1"
   ]
  },
  {
   "cell_type": "code",
   "execution_count": null,
   "id": "32123b28",
   "metadata": {},
   "outputs": [],
   "source": []
  },
  {
   "cell_type": "markdown",
   "id": "7324b890",
   "metadata": {},
   "source": [
    "## 1.3 Define the ECM impedance described with the hook model"
   ]
  },
  {
   "cell_type": "code",
   "execution_count": 6,
   "id": "22805c64",
   "metadata": {},
   "outputs": [],
   "source": [
    "# ECM impedance\n",
    "T_1 = tau_1**phi_1/R_ct_1\n",
    "T_2 = tau_2**phi_2/R_ct_2\n",
    "\n",
    "Z_ECM = R_inf + 1./(1./R_ct_1+T_1*(1j*2.*pi*freq_vec)**phi_1) \\\n",
    "                  + 1./(1./R_ct_2+T_2*(1j*2.*pi*freq_vec)**phi_2)"
   ]
  },
  {
   "cell_type": "code",
   "execution_count": null,
   "id": "4b83dd58",
   "metadata": {},
   "outputs": [],
   "source": []
  },
  {
   "cell_type": "markdown",
   "id": "0be95e40",
   "metadata": {},
   "source": [
    "## 1.4 Define the ECM DRT"
   ]
  },
  {
   "cell_type": "code",
   "execution_count": 7,
   "id": "a2fee445",
   "metadata": {},
   "outputs": [],
   "source": [
    "# first DRT\n",
    "gamma_ECM_RR_1 = (R_ct_1)/(2.*pi)*sin((1.-phi_1)*pi)/(np.cosh(phi_1*np.log(tau_vec_RR/tau_1))-cos((1.-phi_1)*pi))\n",
    "gamma_ECM_NN_1 = (R_ct_1)/(2.*pi)*sin((1.-phi_1)*pi)/(np.cosh(phi_1*np.log(tau_vec_NN/tau_1))-cos((1.-phi_1)*pi))\n",
    "# second DRT\n",
    "gamma_ECM_RR_2 = (R_ct_2)/(2.*pi)*sin((1.-phi_2)*pi)/(np.cosh(phi_2*np.log(tau_vec_RR/tau_2))-cos((1.-phi_2)*pi))\n",
    "gamma_ECM_NN_2 = (R_ct_2)/(2.*pi)*sin((1.-phi_2)*pi)/(np.cosh(phi_2*np.log(tau_vec_NN/tau_2))-cos((1.-phi_2)*pi))\n",
    "# total gamma\n",
    "gamma_ECM_RR = gamma_ECM_RR_1 + gamma_ECM_RR_2\n",
    "gamma_ECM_NN = gamma_ECM_NN_1 + gamma_ECM_NN_2\n",
    "\n",
    "# normalized gamma\n",
    "R_ct = R_ct_1 + R_ct_2\n",
    "gamma_ECM_RR_norm = gamma_ECM_RR/R_ct\n",
    "gamma_ECM_NN_norm = gamma_ECM_NN/R_ct"
   ]
  },
  {
   "cell_type": "code",
   "execution_count": null,
   "id": "afd1e717",
   "metadata": {},
   "outputs": [],
   "source": []
  },
  {
   "cell_type": "markdown",
   "id": "060da653",
   "metadata": {},
   "source": [
    "## 1.5 Nyquist plot of the experimental and ECM impedances (see Figure 10 (b) in [Link](https://doi.org/10.1016/j.electacta.2022.141499))"
   ]
  },
  {
   "cell_type": "code",
   "execution_count": 8,
   "id": "4550c2e3",
   "metadata": {},
   "outputs": [
    {
     "data": {
      "image/png": "[encoded data removed]",
      "text/plain": [
       "<Figure size 647.2x400 with 1 Axes>"
      ]
     },
     "metadata": {},
     "output_type": "display_data"
    }
   ],
   "source": [
    "plt.plot(np.real(Z_exp), -np.imag(Z_exp), 'o', markersize=8, color='red', label='exp')\n",
    "plt.plot(np.real(Z_ECM), -np.imag(Z_ECM), linewidth=4, color='black', label='ECM')\n",
    "\n",
    "plt.axis([0,400,-50,200])\n",
    "plt.xticks(np.arange(0, 400, step=50))\n",
    "plt.legend(frameon=False, fontsize = 15)\n",
    "plt.gca().set_aspect('equal', adjustable='box')\n",
    "plt.xlabel('$Z_{\\\\rm re}/\\\\Omega$', fontsize = 20)\n",
    "plt.ylabel('$-Z_{\\\\rm im}/\\\\Omega$', fontsize = 20)\n",
    "fig = plt.gcf()\n",
    "fig.set_size_inches(6.472, 4)\n",
    "plt.show()"
   ]
  },
  {
   "cell_type": "code",
   "execution_count": null,
   "id": "817f1328",
   "metadata": {},
   "outputs": [],
   "source": []
  },
  {
   "cell_type": "markdown",
   "id": "e20c22eb",
   "metadata": {},
   "source": [
    "# 2. Ridge regression (RR) to prepare the pretraining step"
   ]
  },
  {
   "cell_type": "markdown",
   "id": "43b57480",
   "metadata": {},
   "source": [
    "## 2.1 Conduct RR"
   ]
  },
  {
   "cell_type": "code",
   "execution_count": 10,
   "id": "51df5a41",
   "metadata": {},
   "outputs": [],
   "source": [
    "# data\n",
    "Z_RR = np.zeros(2*N_f)\n",
    "Z_RR[:N_f] = Z_exp.real.flatten()\n",
    "Z_RR[N_f:] = Z_exp.imag.flatten()\n",
    "\n",
    "# matrices\n",
    "A_re_RR = compute_DRT.compute_A_re(freq_vec, tau_vec_RR)\n",
    "A_im_RR = compute_DRT.compute_A_im(freq_vec, tau_vec_RR)\n",
    "L2_RR = compute_DRT.compute_L2(log_tau_vec_RR_norm)\n",
    "L1_RR = compute_DRT.compute_L1(log_tau_vec_RR_norm)\n",
    "\n",
    "# build matrices for cvxpy\n",
    "lambda_0 = 1.0E-3\n",
    "A_R0 = np.zeros((2*N_f,1))\n",
    "A_R0[0:N_f,0] = 1.0\n",
    "A_RR = np.hstack( ( A_R0, np.vstack((A_re_RR, A_im_RR)) ) )\n",
    "L1_RR = np.hstack( ( np.zeros((N_tau_RR-1,1)), L1_RR ) )\n",
    "Q = A_RR.T@A_RR + lambda_0*L1_RR.T@L1_RR\n",
    "q = -2.*A_RR.T@Z_RR\n",
    "\n",
    "# Define and solve the CVXPY problem.\n",
    "x_RR = cp.Variable(N_tau_RR+1)\n",
    "prob = cp.Problem(cp.Minimize(cp.quad_form(x_RR, Q) + q.T @ x_RR)) # , [x_RR >= 0]) # we do not need a positive gamma anymore \n",
    "prob.solve();"
   ]
  },
  {
   "cell_type": "code",
   "execution_count": null,
   "id": "d93e2fbb",
   "metadata": {},
   "outputs": [],
   "source": []
  },
  {
   "cell_type": "markdown",
   "id": "a569ce81",
   "metadata": {},
   "source": [
    "## 2.2 Plot of the DRT recovered with RR"
   ]
  },
  {
   "cell_type": "code",
   "execution_count": 11,
   "id": "d66fc618",
   "metadata": {},
   "outputs": [
    {
     "data": {
      "image/png": "[encoded data removed]",
      "text/plain": [
       "<Figure size 647.2x400 with 1 Axes>"
      ]
     },
     "metadata": {},
     "output_type": "display_data"
    }
   ],
   "source": [
    "plt.semilogx(tau_vec_RR, gamma_ECM_RR, linewidth=4, color='black', label= 'ECM')\n",
    "plt.semilogx(tau_vec_RR, x_RR.value[1:], linewidth=4, color='red', label='DRT') \n",
    "\n",
    "plt.xlim(1E-4, 1E4)\n",
    "plt.legend(frameon=False, fontsize = 15)\n",
    "plt.xlabel('$\\\\tau/\\\\rm s$', fontsize=20)\n",
    "plt.ylabel('$\\\\gamma/\\\\Omega$', fontsize=20)\n",
    "fig = plt.gcf()\n",
    "fig.set_size_inches(6.472, 4)\n",
    "plt.show()"
   ]
  },
  {
   "cell_type": "code",
   "execution_count": null,
   "id": "d7d71184",
   "metadata": {},
   "outputs": [],
   "source": []
  },
  {
   "cell_type": "markdown",
   "id": "f46e7b30",
   "metadata": {},
   "source": [
    "# 3. Normalization"
   ]
  },
  {
   "cell_type": "code",
   "execution_count": 12,
   "id": "d3281680",
   "metadata": {},
   "outputs": [],
   "source": [
    "# Zexp on Rct_RR\n",
    "R_inf_RR = x_RR.value[0]\n",
    "R_ct_RR = np.trapz(x_RR.value[1:], log_tau_vec_RR.flatten())\n",
    "Z_exp_norm = (Z_exp-R_inf_RR)/R_ct_RR\n",
    "\n",
    "# gamma on Rct_RR\n",
    "gamma_RR = x_RR.value[1:].reshape(N_tau_RR,1)\n",
    "gamma_RR_norm = gamma_RR/R_ct_RR"
   ]
  },
  {
   "cell_type": "code",
   "execution_count": null,
   "id": "d86c302e",
   "metadata": {},
   "outputs": [],
   "source": []
  },
  {
   "cell_type": "markdown",
   "id": "57183735",
   "metadata": {},
   "source": [
    "# 4. Pretraining of the deep neural network (DNN)"
   ]
  },
  {
   "cell_type": "markdown",
   "id": "55dfa727",
   "metadata": {},
   "source": [
    "## 4.1 Prepare the vectors"
   ]
  },
  {
   "cell_type": "code",
   "execution_count": 13,
   "id": "465d3147",
   "metadata": {},
   "outputs": [],
   "source": [
    "# gamma from RR and its normalization\n",
    "gamma_RR_torch =  torch.from_numpy(gamma_RR).type(Tensor)\n",
    "gamma_RR_norm_torch =  torch.from_numpy(gamma_RR_norm).type(Tensor)\n",
    "\n",
    "# gamma ECM for the NN (we will used it to compute the distances)\n",
    "gamma_ECM_NN_torch = torch.from_numpy(gamma_ECM_NN).type(Tensor)\n",
    "\n",
    "# torch vectors\n",
    "\n",
    "# log(tau) used for pretraining and full training\n",
    "log_tau_vec_RR_norm_torch = torch.from_numpy(log_tau_vec_RR_norm).type(Tensor)\n",
    "log_tau_vec_NN_norm_torch = torch.from_numpy(log_tau_vec_NN_norm).type(Tensor)\n",
    "\n",
    "# log(tau) used for the integration error computation\n",
    "log_tau_vec_NN_torch = torch.from_numpy(log_tau_vec_NN).type(Tensor)\n",
    "\n",
    "# Z_exp used for inversion\n",
    "Z_exp_re_norm_torch = torch.from_numpy(np.real(Z_exp_norm)).type(Tensor)\n",
    "Z_exp_im_norm_torch = torch.from_numpy(np.imag(Z_exp_norm)).type(Tensor)"
   ]
  },
  {
   "cell_type": "code",
   "execution_count": null,
   "id": "3e366878",
   "metadata": {},
   "outputs": [],
   "source": []
  },
  {
   "cell_type": "markdown",
   "id": "303eb7b2",
   "metadata": {},
   "source": [
    "## 4.2 Define the DNN (Section 2.5.4 in [Link](https://doi.org/10.1016/j.electacta.2022.141499))"
   ]
  },
  {
   "cell_type": "code",
   "execution_count": 14,
   "id": "993599a6",
   "metadata": {},
   "outputs": [
    {
     "name": "stdout",
     "output_type": "stream",
     "text": [
      "10657\n"
     ]
    }
   ],
   "source": [
    "class gamma_elu_layer(nn.Module):\n",
    "\n",
    "    def __init__(self, in_features, out_features):\n",
    "        \n",
    "        super().__init__()\n",
    "        \n",
    "        self.linear = nn.Linear(in_features, out_features, bias=True)        \n",
    "        nn.init.xavier_uniform_(self.linear.weight)\n",
    "        nn.init.uniform_(self.linear.bias)\n",
    "\n",
    "    def forward(self, input):\n",
    "        return F.elu(self.linear(input))\n",
    "    \n",
    "class gamma_sine_layer(nn.Module):\n",
    "\n",
    "    def __init__(self, in_features, out_features):\n",
    "        \n",
    "        super().__init__()\n",
    "        \n",
    "        self.linear = nn.Linear(in_features, out_features, bias=True)        \n",
    "        nn.init.xavier_normal_(self.linear.weight)\n",
    "        nn.init.zeros_(self.linear.bias)\n",
    "\n",
    "    def forward(self, input):\n",
    "        return torch.sin(self.linear(input))\n",
    "    \n",
    "class gamma_softplus_layer(nn.Module):\n",
    "\n",
    "    def __init__(self, in_features, out_features):\n",
    "        \n",
    "        super().__init__()\n",
    "        \n",
    "        self.linear = nn.Linear(in_features, out_features, bias=True)        \n",
    "        nn.init.xavier_normal_(self.linear.weight)\n",
    "        nn.init.zeros_(self.linear.bias)\n",
    "\n",
    "    def forward(self, input):\n",
    "        return F.softplus(self.linear(input))\n",
    "    \n",
    "class gamma_net(nn.Module):\n",
    "    def __init__(self, in_features, hidden_features, hidden_layers, out_features):\n",
    "        super().__init__()\n",
    "        \n",
    "        self.net = []\n",
    "        self.net.append(gamma_sine_layer(in_features, hidden_features))\n",
    "\n",
    "        for i in range(hidden_layers):\n",
    "            # self.net.append(gamma_elu_layer(hidden_features, hidden_features))\n",
    "            self.net.append(gamma_elu_layer(hidden_features, hidden_features))\n",
    "\n",
    "        self.net.append(gamma_elu_layer(hidden_features, out_features))\n",
    "        \n",
    "        self.net = nn.Sequential(*self.net)\n",
    "    \n",
    "    def forward(self, coords):\n",
    "        coords = coords.clone().detach().requires_grad_(True) # allows to take derivative w.r.t. input\n",
    "        output = self.net(coords)\n",
    "        return output, coords\n",
    "    \n",
    "# let's define the model gamma\n",
    "model_gamma = gamma_net(in_features=1, out_features=1, hidden_features=32, hidden_layers=10)\n",
    "\n",
    "if cuda:\n",
    "    model_gamma.cuda()\n",
    "print(compute_DRT.count_parameters(model_gamma))"
   ]
  },
  {
   "cell_type": "code",
   "execution_count": null,
   "id": "9f3422e2",
   "metadata": {},
   "outputs": [],
   "source": []
  },
  {
   "cell_type": "markdown",
   "id": "fbbf0084",
   "metadata": {},
   "source": [
    "## 4.3 Pretraining step (Section 2.5.2)"
   ]
  },
  {
   "cell_type": "code",
   "execution_count": 15,
   "id": "3d82ac53",
   "metadata": {},
   "outputs": [
    {
     "name": "stdout",
     "output_type": "stream",
     "text": [
      "iter=0; loss=6.831278e+00\n",
      "iter=200; loss=1.846061e-02\n",
      "iter=400; loss=1.079743e-02\n",
      "iter=600; loss=7.459430e-03\n",
      "iter=800; loss=5.673156e-03\n",
      "iter=1000; loss=1.200867e-02\n",
      "iter=1200; loss=6.464338e-03\n",
      "iter=1400; loss=1.121542e-01\n",
      "iter=1600; loss=2.300618e-03\n",
      "iter=1800; loss=1.785283e-03\n",
      "iter=2000; loss=1.466525e-03\n"
     ]
    }
   ],
   "source": [
    "def loss_pretrain_fn(x, gamma):\n",
    "\n",
    "    MSE = torch.sum((x - gamma)**2)\n",
    "    \n",
    "    return MSE\n",
    "\n",
    "learning_rate = 1e-3\n",
    "max_iters = 2001\n",
    "optimizer = torch.optim.Adam(model_gamma.parameters(), lr=learning_rate)#, weight_decay=1E-5)\n",
    "\n",
    "# numpy arrays where solved data will be saved\n",
    "loss_pretrain_store = np.array([])\n",
    "gamma_NN_pretrain_store = np.zeros((N_tau_RR, max_iters+1))\n",
    "\n",
    "# pretrain torch\n",
    "gamma_NN_pretrain_torch, coords = model_gamma(log_tau_vec_RR_norm_torch)\n",
    "loss_pretrain = loss_pretrain_fn(gamma_NN_pretrain_torch, gamma_RR_norm_torch)\n",
    "\n",
    "# store\n",
    "# gamma from NN\n",
    "gamma_NN_pretrain_store[:, 0] = gamma_NN_pretrain_torch.detach().cpu().numpy().flatten()\n",
    "# loss and store first value\n",
    "loss_pretrain_store = np.append(loss_pretrain_store, loss_pretrain.item())\n",
    "\n",
    "for t in range(max_iters):\n",
    "\n",
    "    # Forward pass: compute predicted y by passing x to the model.\n",
    "    gamma_NN_pretrain_torch, coords = model_gamma(log_tau_vec_RR_norm_torch)\n",
    "    \n",
    "    # Compute the loss\n",
    "    loss = loss_pretrain_fn(gamma_NN_pretrain_torch, gamma_RR_norm_torch)\n",
    "    \n",
    "    # set grads to zero\n",
    "    optimizer.zero_grad()\n",
    "\n",
    "    # backward pass: compute gradient of the loss with respect to model parameters\n",
    "    loss.backward()\n",
    "\n",
    "    # the step function of the Optimizer updates the NN parameters\n",
    "    optimizer.step()\n",
    "    \n",
    "    # save loss\n",
    "    loss_pretrain_store = np.append(loss_pretrain_store, loss.item())\n",
    "    \n",
    "    # store gamma\n",
    "    gamma_NN_pretrain_store[:, t+1] = gamma_NN_pretrain_torch.detach().cpu().numpy().flatten()\n",
    "    \n",
    "    # and print it\n",
    "    if not t%200:\n",
    "        print('iter=%d; loss=%e' % (t, loss.item()))"
   ]
  },
  {
   "cell_type": "code",
   "execution_count": null,
   "id": "7b49647f",
   "metadata": {},
   "outputs": [],
   "source": []
  },
  {
   "cell_type": "markdown",
   "id": "1b047220",
   "metadata": {},
   "source": [
    "## 4.4 Plot of the ECM, RR-recovered, and DNN-pretrained DRTs"
   ]
  },
  {
   "cell_type": "code",
   "execution_count": 26,
   "id": "373599a0",
   "metadata": {},
   "outputs": [
    {
     "data": {
      "image/png": "[encoded data removed]",
      "text/plain": [
       "<Figure size 647.2x400 with 1 Axes>"
      ]
     },
     "metadata": {},
     "output_type": "display_data"
    }
   ],
   "source": [
    "plt.semilogx(tau_vec_RR, gamma_ECM_RR_norm, linewidth=4, color='blue', label= 'ECM')\n",
    "plt.semilogx(tau_vec_RR, gamma_RR_norm, linewidth=4, color='black', label='DRT-RR') \n",
    "plt.semilogx(tau_vec_RR, gamma_NN_pretrain_torch.detach().cpu().numpy().flatten(),linestyle=':', linewidth =4, color='green', label='pretrain') \n",
    "plt.xlim(1E-4, 1E4)\n",
    "plt.xticks(fontsize=15) \n",
    "plt.yticks(fontsize=15)\n",
    "plt.legend(frameon=False, fontsize = 15)\n",
    "plt.xlabel('$\\\\tau/\\\\rm s$', fontsize=20)\n",
    "plt.ylabel('$\\\\gamma/\\\\Omega$', fontsize=20)\n",
    "fig = plt.gcf()\n",
    "fig.set_size_inches(6.472, 4)\n",
    "plt.show()"
   ]
  },
  {
   "cell_type": "code",
   "execution_count": null,
   "id": "5abba6a0",
   "metadata": {},
   "outputs": [],
   "source": []
  },
  {
   "cell_type": "markdown",
   "id": "48fafec4",
   "metadata": {},
   "source": [
    "# 5. Training of the DNN"
   ]
  },
  {
   "cell_type": "markdown",
   "id": "dcaecd8c",
   "metadata": {},
   "source": [
    "## 5.1 Prepare the training and define the training loss given in (9)"
   ]
  },
  {
   "cell_type": "code",
   "execution_count": 16,
   "id": "d5bb0247",
   "metadata": {},
   "outputs": [
    {
     "name": "stdout",
     "output_type": "stream",
     "text": [
      "0.012500000000000011\n",
      "10657\n",
      "10657\n"
     ]
    }
   ],
   "source": [
    "x = gamma_NN_pretrain_torch\n",
    "\n",
    "# data used in NN is transformed to a pytorch tensor\n",
    "A_re = compute_DRT.compute_A_re(freq_vec, tau_vec_NN)\n",
    "A_im = compute_DRT.compute_A_im(freq_vec, tau_vec_NN)\n",
    "\n",
    "A_re_torch = torch.from_numpy(A_re).type(Tensor)\n",
    "A_im_torch = torch.from_numpy(A_im).type(Tensor)\n",
    "\n",
    "def first_derivative(y, x):\n",
    "    grad_outputs = torch.ones_like(y)\n",
    "    first_derivative_out = torch.autograd.grad(y, [x], grad_outputs=grad_outputs, create_graph=True)[0]\n",
    "    return first_derivative_out\n",
    "\n",
    "def second_derivative(y, x):\n",
    "    first_derivative_out = first_derivative(y, x)    \n",
    "    second_derivative_out = first_derivative(first_derivative_out, x)    \n",
    "    return second_derivative_out\n",
    "\n",
    "Delta_log_tau = abs(log_tau_vec_NN_norm[2]-log_tau_vec_NN_norm[1]).item()\n",
    "beta = 0.5\n",
    "alpha = beta*Delta_log_tau\n",
    "print(alpha)\n",
    "\n",
    "def loss_fn(R_inf, gamma, log_tau_norm, A_re, A_im, lambda_0, alpha, Z_re, Z_im):\n",
    "    \n",
    "    MSE = 0.0     \n",
    "    MSE_re = torch.sum((R_inf + torch.matmul(A_re,gamma) - Z_re)**2)\n",
    "    MSE_im = torch.sum((torch.matmul(A_im,gamma) - Z_im)**2)\n",
    "\n",
    "    MSE_D1 = torch.sum(1/alpha*torch.clamp(-gamma[1:]*gamma[:-1], 0, alpha) )\n",
    "    MSE_D2 = torch.sum(2/alpha*torch.clamp(-gamma[2:]*gamma[:-2], 0, alpha/2) )\n",
    "    MSE_D = MSE_D1 + MSE_D2\n",
    "    \n",
    "    grad = first_derivative(gamma, log_tau_norm).flatten()\n",
    "    zeta = 1/(4*(lambda_0**2))\n",
    "    lambda_delP = 1/zeta*(torch.sqrt(grad.detach()**4+2*zeta)-grad.detach()**2)\n",
    "    MSE_der = torch.trapz(lambda_delP*grad**2,log_tau_norm.detach().flatten())\n",
    "\n",
    "    MSE = MSE + MSE_re + MSE_im + MSE_D + MSE_der # MSE\n",
    "    return MSE\n",
    "\n",
    "print(compute_DRT.count_parameters(model_gamma))\n",
    "\n",
    "# saving the model for  earlystop, min loss, and optimal\n",
    "check_Early_stop = 0\n",
    "t_min_loss_loop = 0\n",
    "distance_opt = np.inf\n",
    "\n",
    "learning_rate = 1e-4\n",
    "max_iters = 50001\n",
    "optimizer = torch.optim.Adam(model_gamma.parameters(), lr=learning_rate)#, weight_decay=1E-5)\n",
    "R_inf_torch = torch.tensor([0.0], requires_grad=True, device=\"cpu\").type(Tensor)\n",
    "optimizer.add_param_group({'params': R_inf_torch})\n",
    "print(compute_DRT.count_parameters(model_gamma))\n",
    "\n",
    "# we will store key neural network results here\n",
    "loss_store = np.array([])\n",
    "distance_store = np.array([])\n",
    "gamma_NN_store = torch.zeros((N_tau_NN,max_iters+1)).type(Tensor)\n",
    "R_inf_store = torch.zeros(max_iters+1).type(Tensor)\n",
    "\n",
    "# the gamma is stored here\n",
    "gamma_NN_norm, coords = model_gamma(log_tau_vec_NN_norm_torch)\n",
    "gamma_NN_store[:, 0] = gamma_NN_norm.detach().flatten()\n",
    "    \n",
    "loss = loss_fn(R_inf_torch, gamma_NN_norm, coords, A_re_torch, A_im_torch, lambda_0, alpha, Z_exp_re_norm_torch, Z_exp_im_norm_torch)\n",
    "\n",
    "loss_store = np.append(loss_store, loss.item())\n",
    "R_inf_store[0] = R_inf_RR + R_ct_RR*R_inf_torch[0].detach().item()\n",
    "\n",
    "squared_distance = torch.trapz((R_ct_RR*gamma_NN_norm.detach().T-gamma_ECM_NN_torch.T)**2,log_tau_vec_NN_norm_torch.T)\n",
    "distance_store = np.append(distance_store, sqrt(squared_distance.item()))"
   ]
  },
  {
   "cell_type": "code",
   "execution_count": null,
   "id": "71b1f6df",
   "metadata": {},
   "outputs": [],
   "source": []
  },
  {
   "cell_type": "markdown",
   "id": "e661768d",
   "metadata": {},
   "source": [
    "## 5.2 Training step (Section 2.5.3)"
   ]
  },
  {
   "cell_type": "code",
   "execution_count": 17,
   "id": "b01da85a",
   "metadata": {},
   "outputs": [
    {
     "name": "stdout",
     "output_type": "stream",
     "text": [
      "iter=0; loss=1.811866e-01\n",
      "iter=200; loss=1.421828e-01\n",
      "iter=400; loss=1.345882e-01\n",
      "iter=600; loss=1.335243e-01\n",
      "iter=800; loss=1.551429e-01\n",
      "iter=1000; loss=1.821193e-01\n",
      "iter=1200; loss=1.926640e-01\n",
      "iter=1400; loss=2.282117e-01\n",
      "iter=1600; loss=1.168805e-01\n",
      "iter=1800; loss=1.676138e-01\n",
      "iter=2000; loss=1.638714e-01\n",
      "iter=2200; loss=1.116448e-01\n",
      "iter=2400; loss=9.723587e-02\n",
      "iter=2600; loss=8.576163e-02\n",
      "iter=2800; loss=7.992053e-02\n",
      "iter=3000; loss=8.061136e-02\n",
      "iter=3200; loss=6.009474e-02\n",
      "iter=3400; loss=5.735743e-02\n",
      "iter=3600; loss=6.089927e-02\n",
      "iter=3800; loss=5.981503e-02\n",
      "iter=4000; loss=6.033573e-02\n",
      "iter=4200; loss=9.157555e-02\n",
      "iter=4400; loss=5.579899e-02\n",
      "iter=4600; loss=5.198006e-02\n",
      "iter=4800; loss=4.773149e-02\n",
      "iter=5000; loss=6.475595e-02\n",
      "iter=5200; loss=5.585132e-02\n",
      "iter=5400; loss=5.063822e-02\n",
      "iter=5600; loss=4.611504e-02\n",
      "iter=5800; loss=9.108510e-02\n",
      "iter=6000; loss=4.668178e-02\n",
      "iter=6200; loss=4.667838e-02\n",
      "iter=6400; loss=4.418864e-02\n",
      "iter=6600; loss=6.553250e-02\n",
      "iter=6800; loss=8.120647e-02\n",
      "iter=7000; loss=6.812431e-02\n",
      "iter=7200; loss=6.926540e-02\n",
      "iter=7400; loss=5.717054e-02\n",
      "iter=7600; loss=5.541749e-02\n",
      "iter=7800; loss=6.206590e-02\n",
      "iter=8000; loss=6.389605e-02\n",
      "iter=8200; loss=4.658723e-02\n",
      "iter=8400; loss=4.978728e-02\n",
      "iter=8600; loss=1.417994e-01\n",
      "iter=8800; loss=5.155028e-02\n",
      "iter=9000; loss=1.379230e-01\n",
      "iter=9200; loss=4.607969e-02\n",
      "iter=9400; loss=5.626710e-02\n",
      "iter=9600; loss=5.627406e-02\n",
      "iter=9800; loss=5.934774e-02\n",
      "iter=10000; loss=4.890494e-02\n",
      "iter=10200; loss=4.903837e-02\n",
      "iter=10400; loss=6.035491e-02\n",
      "iter=10600; loss=4.922102e-02\n",
      "iter=10800; loss=4.411437e-02\n",
      "iter=11000; loss=4.861214e-02\n",
      "iter=11200; loss=7.202072e-02\n",
      "iter=11400; loss=6.438728e-02\n",
      "iter=11600; loss=4.231061e-02\n",
      "iter=11800; loss=4.504565e-02\n",
      "iter=12000; loss=4.542790e-02\n",
      "iter=12200; loss=4.251026e-02\n",
      "iter=12400; loss=5.769299e-02\n",
      "iter=12600; loss=8.873680e-02\n",
      "iter=12800; loss=4.879678e-02\n",
      "iter=13000; loss=4.543375e-02\n",
      "iter=13200; loss=4.173302e-02\n",
      "iter=13400; loss=4.251410e-02\n",
      "iter=13600; loss=4.332280e-02\n",
      "iter=13800; loss=4.194579e-02\n",
      "iter=14000; loss=4.659547e-02\n",
      "iter=14200; loss=4.496175e-02\n",
      "iter=14400; loss=4.528857e-02\n",
      "iter=14600; loss=4.235834e-02\n",
      "iter=14800; loss=4.490329e-02\n",
      "iter=15000; loss=5.300891e-02\n",
      "iter=15200; loss=4.256758e-02\n",
      "iter=15400; loss=4.153068e-02\n",
      "iter=15600; loss=4.413325e-02\n",
      "iter=15800; loss=5.085699e-02\n",
      "iter=16000; loss=4.335884e-02\n",
      "iter=16200; loss=4.499979e-02\n",
      "iter=16400; loss=5.313329e-02\n",
      "iter=16600; loss=4.691325e-02\n",
      "iter=16800; loss=4.161502e-02\n",
      "iter=17000; loss=5.956202e-02\n",
      "iter=17200; loss=1.801626e-01\n",
      "iter=17400; loss=4.441563e-02\n",
      "iter=17600; loss=4.162302e-02\n",
      "iter=17800; loss=4.322901e-02\n",
      "iter=18000; loss=4.405511e-02\n",
      "iter=18200; loss=4.331631e-02\n",
      "iter=18400; loss=4.229457e-02\n",
      "iter=18600; loss=4.241019e-02\n",
      "iter=18800; loss=5.561741e-02\n",
      "iter=19000; loss=4.386831e-02\n",
      "iter=19200; loss=7.900871e-02\n",
      "iter=19400; loss=4.155244e-02\n",
      "iter=19600; loss=4.310005e-02\n",
      "iter=19800; loss=8.893035e-02\n",
      "iter=20000; loss=5.278008e-02\n",
      "iter=20200; loss=7.034535e-02\n",
      "iter=20400; loss=4.095560e-02\n",
      "iter=20600; loss=5.283067e-02\n",
      "iter=20800; loss=6.295189e-02\n",
      "iter=21000; loss=4.689698e-02\n",
      "iter=21200; loss=1.229673e-01\n",
      "iter=21400; loss=6.358125e-02\n",
      "iter=21600; loss=4.132285e-02\n",
      "iter=21800; loss=6.041617e-02\n",
      "iter=22000; loss=5.250563e-02\n",
      "iter=22200; loss=4.363592e-02\n",
      "iter=22400; loss=1.027665e-01\n",
      "iter=22600; loss=4.199098e-02\n",
      "iter=22800; loss=5.096000e-02\n",
      "iter=23000; loss=4.352932e-02\n",
      "iter=23200; loss=4.119868e-02\n",
      "iter=23400; loss=4.260923e-02\n",
      "iter=23600; loss=4.380498e-02\n",
      "iter=23800; loss=4.055651e-02\n",
      "iter=24000; loss=6.088053e-02\n",
      "iter=24200; loss=4.745325e-02\n",
      "iter=24400; loss=5.369934e-02\n",
      "iter=24600; loss=6.434464e-02\n",
      "iter=24800; loss=4.185268e-02\n",
      "iter=25000; loss=5.143608e-02\n",
      "iter=25200; loss=4.346950e-02\n",
      "iter=25400; loss=4.115133e-02\n",
      "iter=25600; loss=4.420843e-02\n",
      "iter=25800; loss=4.111614e-02\n",
      "iter=26000; loss=4.396710e-02\n",
      "iter=26200; loss=4.404119e-02\n",
      "iter=26400; loss=4.308723e-02\n",
      "iter=26600; loss=5.045373e-02\n",
      "iter=26800; loss=1.140073e-01\n",
      "iter=27000; loss=4.435790e-02\n",
      "iter=27200; loss=5.532997e-02\n",
      "iter=27400; loss=4.099599e-02\n",
      "iter=27600; loss=1.434847e-01\n",
      "iter=27800; loss=4.596735e-02\n",
      "iter=28000; loss=4.244679e-02\n",
      "iter=28200; loss=4.438085e-02\n",
      "iter=28400; loss=5.018091e-02\n",
      "iter=28600; loss=4.215255e-02\n",
      "iter=28800; loss=1.086459e-01\n",
      "iter=29000; loss=9.038999e-02\n",
      "iter=29200; loss=4.296860e-02\n",
      "iter=29400; loss=4.744246e-02\n",
      "iter=29600; loss=4.445866e-02\n",
      "iter=29800; loss=7.116737e-02\n",
      "iter=30000; loss=4.448117e-02\n",
      "iter=30200; loss=4.363837e-02\n",
      "iter=30400; loss=4.501431e-02\n",
      "iter=30600; loss=4.042855e-02\n",
      "iter=30800; loss=5.265183e-02\n",
      "iter=31000; loss=7.153056e-02\n",
      "iter=31200; loss=4.565023e-02\n",
      "iter=31400; loss=4.179133e-02\n",
      "iter=31600; loss=4.229630e-02\n",
      "iter=31800; loss=4.752724e-02\n",
      "iter=32000; loss=4.297066e-02\n",
      "iter=32200; loss=6.438134e-02\n",
      "iter=32400; loss=4.110606e-02\n",
      "iter=32600; loss=1.419228e-01\n",
      "iter=32800; loss=7.811756e-02\n",
      "iter=33000; loss=4.955345e-02\n",
      "iter=33200; loss=3.977339e-02\n",
      "iter=33400; loss=4.274733e-02\n",
      "iter=33600; loss=4.262678e-02\n",
      "iter=33800; loss=6.045476e-02\n",
      "iter=34000; loss=4.106232e-02\n",
      "iter=34200; loss=4.329992e-02\n",
      "iter=34400; loss=2.578467e-01\n",
      "iter=34600; loss=4.095504e-02\n",
      "iter=34800; loss=5.051713e-02\n",
      "iter=35000; loss=4.640817e-02\n",
      "iter=35200; loss=5.193926e-02\n",
      "iter=35400; loss=4.764867e-02\n",
      "iter=35600; loss=6.509919e-02\n",
      "iter=35800; loss=4.938332e-02\n",
      "iter=36000; loss=4.881391e-02\n",
      "iter=36200; loss=6.848726e-02\n",
      "iter=36400; loss=4.070666e-02\n",
      "iter=36600; loss=4.242607e-02\n",
      "iter=36800; loss=4.751856e-02\n",
      "iter=37000; loss=4.616436e-02\n",
      "iter=37200; loss=4.539665e-02\n",
      "iter=37400; loss=4.512412e-02\n",
      "iter=37600; loss=6.729332e-02\n",
      "iter=37800; loss=4.155999e-02\n",
      "iter=38000; loss=3.958076e-02\n",
      "iter=38200; loss=4.839041e-02\n",
      "iter=38400; loss=8.548255e-02\n",
      "iter=38600; loss=4.397935e-02\n",
      "iter=38800; loss=4.046019e-02\n",
      "iter=39000; loss=5.126443e-02\n",
      "iter=39200; loss=4.343333e-02\n",
      "iter=39400; loss=1.290046e-01\n",
      "iter=39600; loss=1.223169e-01\n",
      "iter=39800; loss=8.457339e-02\n",
      "iter=40000; loss=5.198263e-02\n",
      "iter=40200; loss=5.470831e-02\n",
      "iter=40400; loss=5.749276e-02\n",
      "iter=40600; loss=3.950704e-02\n",
      "iter=40800; loss=4.960636e-02\n",
      "iter=41000; loss=3.997175e-02\n",
      "iter=41200; loss=5.278892e-02\n",
      "iter=41400; loss=6.352887e-02\n",
      "iter=41600; loss=5.871689e-02\n",
      "iter=41800; loss=4.255625e-02\n",
      "iter=42000; loss=4.684505e-02\n",
      "iter=42200; loss=8.294605e-02\n",
      "iter=42400; loss=4.032037e-02\n",
      "iter=42600; loss=5.290193e-02\n",
      "iter=42800; loss=6.800118e-02\n",
      "iter=43000; loss=7.502529e-02\n",
      "iter=43200; loss=4.490807e-02\n",
      "iter=43400; loss=5.104088e-02\n",
      "iter=43600; loss=3.988092e-02\n",
      "iter=43800; loss=6.478328e-02\n",
      "iter=44000; loss=4.272442e-02\n",
      "iter=44200; loss=4.605950e-02\n",
      "iter=44400; loss=6.847578e-02\n",
      "iter=44600; loss=4.311760e-02\n",
      "iter=44800; loss=4.707289e-02\n",
      "iter=45000; loss=4.694227e-02\n",
      "iter=45200; loss=4.297704e-02\n",
      "iter=45400; loss=6.413522e-02\n",
      "iter=45600; loss=4.773712e-02\n",
      "iter=45800; loss=4.287044e-02\n",
      "iter=46000; loss=4.548342e-02\n",
      "iter=46200; loss=5.511291e-02\n",
      "iter=46400; loss=4.438034e-02\n",
      "iter=46600; loss=3.998200e-02\n",
      "iter=46800; loss=5.143248e-02\n",
      "iter=47000; loss=4.811500e-02\n",
      "iter=47200; loss=4.205179e-01\n",
      "iter=47400; loss=4.789278e-02\n",
      "iter=47600; loss=4.160734e-02\n",
      "iter=47800; loss=6.550887e-02\n",
      "iter=48000; loss=4.039708e-02\n",
      "iter=48200; loss=3.995840e-02\n",
      "iter=48400; loss=4.884937e-02\n",
      "iter=48600; loss=5.881608e-02\n",
      "iter=48800; loss=4.148405e-02\n",
      "iter=49000; loss=4.936200e-02\n",
      "iter=49200; loss=6.035740e-02\n",
      "iter=49400; loss=4.617674e-02\n",
      "iter=49600; loss=7.677531e-02\n",
      "iter=49800; loss=4.190109e-02\n",
      "iter=50000; loss=5.071642e-02\n"
     ]
    }
   ],
   "source": [
    "for t in range(max_iters):\n",
    "\n",
    "    # Forward pass: compute predicted y by passing x to the model.\n",
    "    gamma_NN, coords = model_gamma(log_tau_vec_NN_norm_torch)\n",
    "\n",
    "    # Compute the loss\n",
    "    loss = loss_fn(R_inf_torch, gamma_NN, coords, A_re_torch, A_im_torch, lambda_0, alpha, Z_exp_re_norm_torch, Z_exp_im_norm_torch)\n",
    "    \n",
    "    optimizer.zero_grad()\n",
    "    loss.backward()\n",
    "    optimizer.step()\n",
    "    \n",
    "    # save loss\n",
    "    loss_store = np.append(loss_store, loss.item())\n",
    "        \n",
    "    # store gamma\n",
    "    gamma_NN_store[:, t+1] = R_ct_RR*gamma_NN.detach().flatten()\n",
    "    \n",
    "    # save distance\n",
    "    squared_distance = torch.trapz((R_ct_RR*gamma_NN.detach().T-gamma_ECM_NN_torch.T)**2,log_tau_vec_NN_norm_torch.T)\n",
    "    distance_store = np.append(distance_store, sqrt(squared_distance.item()))\n",
    "    \n",
    "    # save of the optimal model\n",
    "    distance_loc = sqrt(squared_distance)\n",
    "    if distance_loc<distance_opt:\n",
    "        torch.save(model_gamma.state_dict(), './results/model_gamma_opt.pth')\n",
    "        Iter_Opt = t+1\n",
    "        distance_opt = distance_loc\n",
    "    \n",
    "    # store R_inf\n",
    "    R_inf_store[t+1] = R_inf_RR + R_ct_RR*R_inf_torch[0].detach().item()\n",
    "\n",
    "    # and print it\n",
    "    if not t%200:\n",
    "        print('iter=%d; loss=%e' % (t, loss.item()))\n",
    "        \n",
    "gamma_0 = gamma_NN_pretrain_store[:,-1]*R_ct_RR\n",
    "Z_re_pretrain = x_RR.value[0] + A_re_RR@gamma_0\n",
    "Z_im_pretrain = A_im_RR@gamma_0\n",
    "Z_pretrain = Z_re_pretrain + 1j*Z_im_pretrain\n",
    "\n",
    "iter_opt = np.argmin(distance_store)\n",
    "iter_min_loss = np.argmin(loss_store)\n",
    "iter_guess = 2000\n",
    "\n",
    "gamma_opt = gamma_NN_store[:,iter_opt]\n",
    "gamma_min_loss = gamma_NN_store[:,iter_min_loss]\n",
    "gamma_guess = gamma_NN_store[:,iter_guess]\n",
    "\n",
    "Z_re_opt = R_inf_store[iter_opt] + torch.matmul(A_re_torch,gamma_opt)\n",
    "Z_im_opt = torch.matmul(A_im_torch,gamma_opt)\n",
    "Z_opt = Z_re_opt.cpu().numpy()+ 1j*Z_im_opt.cpu().numpy()\n",
    "\n",
    "Z_re_min_loss = R_inf_store[iter_min_loss] + torch.matmul(A_re_torch,gamma_min_loss)\n",
    "Z_im_min_loss = torch.matmul(A_im_torch,gamma_min_loss)\n",
    "Z_min_loss = Z_re_min_loss.cpu().numpy()+ 1j*Z_im_min_loss.cpu().numpy()\n",
    "\n",
    "Z_re_guess = R_inf_store[iter_min_loss] + torch.matmul(A_re_torch,gamma_guess)\n",
    "Z_im_guess = torch.matmul(A_im_torch,gamma_guess)\n",
    "Z_guess = Z_re_guess.cpu().numpy()+ 1j*Z_im_guess.cpu().numpy()"
   ]
  },
  {
   "cell_type": "code",
   "execution_count": null,
   "id": "d94afff7",
   "metadata": {},
   "outputs": [],
   "source": []
  },
  {
   "cell_type": "markdown",
   "id": "b4c2efde",
   "metadata": {},
   "source": [
    "## 5.3 Plot of the ECM, DNN-pretrained, and DNN-trained DRTs"
   ]
  },
  {
   "cell_type": "code",
   "execution_count": 25,
   "id": "6aadbecc",
   "metadata": {},
   "outputs": [
    {
     "data": {
      "image/png": "[encoded data removed]",
      "text/plain": [
       "<Figure size 647.2x400 with 1 Axes>"
      ]
     },
     "metadata": {},
     "output_type": "display_data"
    }
   ],
   "source": [
    "plt.semilogx(tau_vec_RR.flatten(), gamma_ECM_RR.flatten(), linewidth=4, color='red', label= 'ECM')\n",
    "plt.semilogx(tau_vec_RR.flatten(), x_RR.value[1:], linewidth=4,linestyle=':', color='green', label='pretrain') \n",
    "plt.semilogx(tau_vec_NN.flatten(), gamma_opt.cpu().flatten(), linewidth=4, color='blue', label='DNN-DRT') \n",
    "##\n",
    "plt.xlim(1E-4, 1E4)\n",
    "plt.legend(frameon=False, fontsize = 15)\n",
    "plt.xlabel(r'$\\tau/\\rm s$', fontsize=20)\n",
    "plt.ylabel(r'$\\gamma/\\Omega$', fontsize=20)\n",
    "fig = plt.gcf()\n",
    "fig.set_size_inches(6.472, 4)\n",
    "plt.show()"
   ]
  },
  {
   "cell_type": "code",
   "execution_count": null,
   "id": "ecabc0a8",
   "metadata": {},
   "outputs": [],
   "source": []
  },
  {
   "cell_type": "markdown",
   "id": "355b4ae4",
   "metadata": {},
   "source": [
    "## 5.4 Nyquist plot of the experimental, ECM, DNN-pretrained, and DNN-trained impedances"
   ]
  },
  {
   "cell_type": "code",
   "execution_count": 24,
   "id": "9f8cdd9f",
   "metadata": {},
   "outputs": [
    {
     "data": {
      "image/png": "[encoded data removed]",
      "text/plain": [
       "<Figure size 647.2x400 with 1 Axes>"
      ]
     },
     "metadata": {},
     "output_type": "display_data"
    }
   ],
   "source": [
    "plt.plot(np.real(Z_exp), -np.imag(Z_exp), 'o', markersize=8, color='red', label='exp')\n",
    "plt.plot(np.real(Z_ECM), -np.imag(Z_ECM), linewidth=4, color='black', label='ECM')\n",
    "plt.plot(np.real(Z_pretrain), -np.imag(Z_pretrain), linestyle=':', linewidth=4, color='green', label='pretrain')\n",
    "plt.plot(np.real(Z_opt), -np.imag(Z_opt), linewidth=4, color='blue', label='DNN-DRT')\n",
    "plt.ylim(-50,200)\n",
    "plt.legend(frameon=False, fontsize = 15, loc='upper right')\n",
    "plt.gca().set_aspect('equal', adjustable='box')\n",
    "plt.rcParams['text.latex.preamble'] = r'\\usepackage{amsmath}'\n",
    "plt.xlabel(r'$Z_{\\rm re}/\\Omega$', fontsize = 20)\n",
    "plt.ylabel(r'$-Z_{\\rm im}/\\Omega$', fontsize = 20)\n",
    "fig = plt.gcf()\n",
    "fig.set_size_inches(6.472, 4)\n",
    "plt.show()"
   ]
  },
  {
   "cell_type": "code",
   "execution_count": null,
   "id": "8519554d",
   "metadata": {},
   "outputs": [],
   "source": []
  },
  {
   "cell_type": "code",
   "execution_count": null,
   "id": "b3b16b76",
   "metadata": {},
   "outputs": [],
   "source": []
  }
 ],
 "metadata": {
  "kernelspec": {
   "display_name": "Python 3 (ipykernel)",
   "language": "python",
   "name": "python3"
  },
  "language_info": {
   "codemirror_mode": {
    "name": "ipython",
    "version": 3
   },
   "file_extension": ".py",
   "mimetype": "text/x-python",
   "name": "python",
   "nbconvert_exporter": "python",
   "pygments_lexer": "ipython3",
   "version": "3.9.13"
  }
 },
 "nbformat": 4,
 "nbformat_minor": 5
}
