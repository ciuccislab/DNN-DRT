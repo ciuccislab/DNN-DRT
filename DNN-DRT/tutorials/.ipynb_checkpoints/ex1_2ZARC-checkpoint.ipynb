{
 "cells": [
  {
   "cell_type": "markdown",
   "id": "c4379a46",
   "metadata": {},
   "source": [
    "# Deconvolution of electrochemical impedance spectroscopy data using the deep-neural-network-enhanced distribution of relaxation times"
   ]
  },
  {
   "cell_type": "markdown",
   "id": "1d19c5e6",
   "metadata": {},
   "source": [
    "In this tutorial, we will show how two use the DNN-DRT model to analyze the synthetic EIS data generated with the 2xZARC model (Section 3.1.2)."
   ]
  },
  {
   "cell_type": "code",
   "execution_count": 1,
   "id": "5257d510",
   "metadata": {},
   "outputs": [],
   "source": [
    "# import the librairies needed\n",
    "import os\n",
    "import numpy as np\n",
    "import torch\n",
    "import torch.nn.functional as F\n",
    "import matplotlib.pyplot as plt\n",
    "import cvxpy as cp\n",
    "import sys\n",
    "from torch import nn\n",
    "import math\n",
    "from math import pi, sin, cos, sqrt, log\n",
    "import compute_DRT"
   ]
  },
  {
   "cell_type": "code",
   "execution_count": 2,
   "id": "b9abc781",
   "metadata": {},
   "outputs": [
    {
     "name": "stdout",
     "output_type": "stream",
     "text": [
      "Using device: cpu\n"
     ]
    }
   ],
   "source": [
    "# check the device\n",
    "device = torch.device('cuda' if torch.cuda.is_available() else 'cpu')\n",
    "print('Using device:', device)\n",
    "if device.type == 'cuda':\n",
    "    print(torch.cuda.get_device_name(0))\n",
    "    print('Memory Usage:')\n",
    "    print('Allocated:', round(torch.cuda.memory_allocated(0)/1024**2,3), 'MB')\n",
    "    print('Cached:   ', round(torch.cuda.memory_reserved(0)/1024**2,3), 'MB')\n",
    "    \n",
    "cuda = True if torch.cuda.is_available() else False\n",
    "Tensor = torch.cuda.FloatTensor if cuda else torch.FloatTensor"
   ]
  },
  {
   "cell_type": "code",
   "execution_count": 3,
   "id": "24cad771",
   "metadata": {},
   "outputs": [],
   "source": [
    "# seed the random number generator\n",
    "np.random.seed(21312)\n",
    "torch.manual_seed(213912);\n",
    "os.environ['PYTHONHASHSEED']=str(213912)"
   ]
  },
  {
   "cell_type": "code",
   "execution_count": 4,
   "id": "f7960171",
   "metadata": {},
   "outputs": [],
   "source": [
    "# plot standards\n",
    "plt.rc('text', usetex=True)\n",
    "plt.rc('font', family='serif', size=15)\n",
    "plt.rc('xtick', labelsize=15)\n",
    "plt.rc('ytick', labelsize=15)"
   ]
  },
  {
   "cell_type": "code",
   "execution_count": null,
   "id": "41a7b1c4",
   "metadata": {},
   "outputs": [],
   "source": []
  },
  {
   "cell_type": "markdown",
   "id": "ccd50ad1",
   "metadata": {},
   "source": [
    "# 1. Generate the synthetic data"
   ]
  },
  {
   "cell_type": "markdown",
   "id": "e797931c",
   "metadata": {},
   "source": [
    "## 1.1 Define the ranges of frequencies and timescales"
   ]
  },
  {
   "cell_type": "code",
   "execution_count": 5,
   "id": "bb3005c1",
   "metadata": {},
   "outputs": [],
   "source": [
    "# define frequency range\n",
    "log_freq_min = -2.\n",
    "log_freq_max = 6.\n",
    "N_f = 10*int(log_freq_max-log_freq_min)+1\n",
    "freq_vec = np.logspace(log_freq_min, log_freq_max, num=N_f, endpoint=True).reshape(N_f,1)\n",
    "\n",
    "# define tau range (as in previous papers tau=1/f)\n",
    "log_tau_min = -log_freq_max\n",
    "log_tau_max = -log_freq_min\n",
    "\n",
    "# tau's for ridge regression\n",
    "N_tau_RR = 10*int(log_tau_max-log_tau_min)+1\n",
    "tau_vec_RR = np.logspace(log_tau_min, log_tau_max, num = N_tau_RR, endpoint=True).reshape(N_tau_RR,1)\n",
    "log_tau_vec_RR = np.log(tau_vec_RR)\n",
    "# during pretraining the ANN will take the normalized log of the tau_RR vector as input\n",
    "# for consistency with the NN implementation we will compute the L1 matrix using the following\n",
    "# normalized log(tau) vector\n",
    "log_tau_vec_RR_norm = -1.+2.*(log_tau_vec_RR-log_tau_vec_RR.min())/(log_tau_vec_RR.max()-log_tau_vec_RR.min())\n",
    "\n",
    "# the NN will use a much more finer grid, consistent with differential programming so the tau's of the NN, are far more\n",
    "N_tau_NN = 10*int(log_tau_max-log_tau_min)+1\n",
    "tau_vec_NN = np.logspace(log_tau_min, log_tau_max, num = N_tau_NN, endpoint=True).reshape(N_tau_NN,1)\n",
    "log_tau_vec_NN = np.log(tau_vec_NN)\n",
    "# the ANN will take the normalized log10 of the tau vector as input\n",
    "log_tau_vec_NN_norm = -1.+2.*(log_tau_vec_NN-log_tau_vec_NN.min())/(log_tau_vec_NN.max()-log_tau_vec_NN.min())"
   ]
  },
  {
   "cell_type": "code",
   "execution_count": null,
   "id": "34eca38e",
   "metadata": {},
   "outputs": [],
   "source": []
  },
  {
   "cell_type": "markdown",
   "id": "bf05b386",
   "metadata": {},
   "source": [
    "## 1.2 Define the circuit parameters"
   ]
  },
  {
   "cell_type": "code",
   "execution_count": 6,
   "id": "4f2ab24d",
   "metadata": {},
   "outputs": [],
   "source": [
    "R_inf = 10.\n",
    "sigma_n = 0.5\n",
    "\n",
    "# ZARC 1\n",
    "R_ct_1 = 50.\n",
    "phi_1 = 0.8\n",
    "tau_1 = 1E0\n",
    "\n",
    "# ZARC 2\n",
    "R_ct_2 = 50.\n",
    "phi_2 = 0.8\n",
    "tau_2 = 1E-4"
   ]
  },
  {
   "cell_type": "code",
   "execution_count": null,
   "id": "effaaf50",
   "metadata": {},
   "outputs": [],
   "source": []
  },
  {
   "cell_type": "markdown",
   "id": "249dc0bc",
   "metadata": {},
   "source": [
    "## 1.3 Define the exact and experimental impedances (Table 2 and (5))"
   ]
  },
  {
   "cell_type": "code",
   "execution_count": 7,
   "id": "45671e20",
   "metadata": {},
   "outputs": [],
   "source": [
    "# exact impedance\n",
    "T_1 = tau_1**phi_1/R_ct_1\n",
    "T_2 = tau_2**phi_2/R_ct_2\n",
    "\n",
    "Z_exact = R_inf + 1./(1./R_ct_1+T_1*(1j*2.*pi*freq_vec)**phi_1) + 1./(1./R_ct_2+T_2*(1j*2.*pi*freq_vec)**phi_2)\n",
    "\n",
    "# experimental impedance spectrum\n",
    "Z_exp = Z_exact+sigma_n*(np.random.normal(0, 1, Z_exact.shape)+1j*np.random.normal(0, 1, Z_exact.shape))"
   ]
  },
  {
   "cell_type": "code",
   "execution_count": null,
   "id": "439fc1fd",
   "metadata": {},
   "outputs": [],
   "source": []
  },
  {
   "cell_type": "markdown",
   "id": "9a8b8b48",
   "metadata": {},
   "source": [
    "## 1.4 Define the exact DRT (Table 2)"
   ]
  },
  {
   "cell_type": "code",
   "execution_count": 8,
   "id": "094fe581",
   "metadata": {},
   "outputs": [],
   "source": [
    "# first DRT\n",
    "gamma_exact_RR_1 = (R_ct_1)/(2.*pi)*sin((1.-phi_1)*pi)/(np.cosh(phi_1*np.log(tau_vec_RR/tau_1))-cos((1.-phi_1)*pi))\n",
    "gamma_exact_NN_1 = (R_ct_1)/(2.*pi)*sin((1.-phi_1)*pi)/(np.cosh(phi_1*np.log(tau_vec_NN/tau_1))-cos((1.-phi_1)*pi))\n",
    "# second DRT\n",
    "gamma_exact_RR_2 = (R_ct_2)/(2.*pi)*sin((1.-phi_2)*pi)/(np.cosh(phi_2*np.log(tau_vec_RR/tau_2))-cos((1.-phi_2)*pi))\n",
    "gamma_exact_NN_2 = (R_ct_2)/(2.*pi)*sin((1.-phi_2)*pi)/(np.cosh(phi_2*np.log(tau_vec_NN/tau_2))-cos((1.-phi_2)*pi))\n",
    "# total gamma\n",
    "gamma_exact_RR = gamma_exact_RR_1 + gamma_exact_RR_2\n",
    "gamma_exact_NN = gamma_exact_NN_1 + gamma_exact_NN_2\n",
    "\n",
    "# normalized gamma\n",
    "R_ct = R_ct_1 + R_ct_2\n",
    "\n",
    "# normalized gamma\n",
    "gamma_exact_RR_norm = gamma_exact_RR/R_ct\n",
    "gamma_exact_NN_norm = gamma_exact_NN/R_ct"
   ]
  },
  {
   "cell_type": "code",
   "execution_count": null,
   "id": "dea3b750",
   "metadata": {},
   "outputs": [],
   "source": []
  },
  {
   "cell_type": "markdown",
   "id": "74461bf8",
   "metadata": {},
   "source": [
    "## 1.5 Nyquist plot of the experimental and exact impedances"
   ]
  },
  {
   "cell_type": "code",
   "execution_count": 15,
   "id": "d964c673",
   "metadata": {},
   "outputs": [
    {
     "data": {
      "image/png": "[encoded data removed]",
      "text/plain": [
       "<Figure size 647.2x400 with 1 Axes>"
      ]
     },
     "metadata": {},
     "output_type": "display_data"
    }
   ],
   "source": [
    "plt.plot(np.real(Z_exp), -np.imag(Z_exp), 'o', markersize=8, color='red', label='exp')\n",
    "plt.plot(np.real(Z_exact), -np.imag(Z_exact), linewidth=4, color='black', label='exact')\n",
    "\n",
    "plt.axis([0,120,-2.5,40.5])\n",
    "plt.xticks(np.arange(0, 120, step=10))\n",
    "plt.legend(frameon=False, fontsize = 15)\n",
    "plt.gca().set_aspect('equal', adjustable='box')\n",
    "plt.rcParams['text.latex.preamble'] = r'\\usepackage{amsmath}'\n",
    "plt.xlabel(r'$Z_{\\rm re}/\\Omega$', fontsize = 20)\n",
    "plt.ylabel(r'$-Z_{\\rm im}/\\Omega$', fontsize = 20)\n",
    "fig = plt.gcf()\n",
    "fig.set_size_inches(6.472, 4)\n",
    "plt.show()"
   ]
  },
  {
   "cell_type": "code",
   "execution_count": null,
   "id": "4b8ca0e5",
   "metadata": {},
   "outputs": [],
   "source": []
  },
  {
   "cell_type": "markdown",
   "id": "c2a07719",
   "metadata": {},
   "source": [
    "# 2. Ridge regression (RR) to prepare the pretraining step"
   ]
  },
  {
   "cell_type": "markdown",
   "id": "6a1e9e8d",
   "metadata": {},
   "source": [
    "## 2.1 Conduct RR"
   ]
  },
  {
   "cell_type": "code",
   "execution_count": 16,
   "id": "8c7d2e97",
   "metadata": {},
   "outputs": [],
   "source": [
    "# data\n",
    "Z_RR = np.zeros(2*N_f)\n",
    "Z_RR[:N_f] = Z_exp.real.flatten()\n",
    "Z_RR[N_f:] = Z_exp.imag.flatten()\n",
    "\n",
    "# matrices\n",
    "A_re_RR = compute_DRT.compute_A_re(freq_vec, tau_vec_RR)\n",
    "A_im_RR = compute_DRT.compute_A_im(freq_vec, tau_vec_RR)\n",
    "L2_RR = compute_DRT.compute_L2(log_tau_vec_RR_norm)\n",
    "L1_RR = compute_DRT.compute_L1(log_tau_vec_RR_norm)\n",
    "\n",
    "# build matrices for cvxpy\n",
    "lambda_0 = 1e-2 # 1.0E-10\n",
    "A_R0 = np.zeros((2*N_f,1))\n",
    "A_R0[0:N_f,0] = 1.0\n",
    "A_RR = np.hstack( ( A_R0, np.vstack((A_re_RR, A_im_RR)) ) )\n",
    "L1_RR = np.hstack( ( np.zeros((N_tau_RR-1,1)), L1_RR ) )\n",
    "Q = A_RR.T@A_RR + lambda_0*L1_RR.T@L1_RR \n",
    "q = -2.*A_RR.T@Z_RR\n",
    "\n",
    "# Define and solve the CVXPY problem.\n",
    "x_RR = cp.Variable(N_tau_RR+1)\n",
    "prob = cp.Problem(cp.Minimize(cp.quad_form(x_RR, Q) + q.T @ x_RR), [x_RR >= 0])\n",
    "prob.solve();"
   ]
  },
  {
   "cell_type": "code",
   "execution_count": null,
   "id": "e883db2b",
   "metadata": {},
   "outputs": [],
   "source": []
  },
  {
   "cell_type": "markdown",
   "id": "23c1d6db",
   "metadata": {},
   "source": [
    "## 2.2 Plot of the DRT recovered with RR"
   ]
  },
  {
   "cell_type": "code",
   "execution_count": 17,
   "id": "71a64fd8",
   "metadata": {},
   "outputs": [
    {
     "data": {
      "image/png": "[encoded data removed]",
      "text/plain": [
       "<Figure size 647.2x400 with 1 Axes>"
      ]
     },
     "metadata": {},
     "output_type": "display_data"
    }
   ],
   "source": [
    "plt.semilogx(tau_vec_RR, gamma_exact_RR, linewidth=4, color='black', label= 'exact')\n",
    "plt.semilogx(tau_vec_RR, x_RR.value[1:], linewidth=4, color='red', label='DRT')\n",
    "\n",
    "plt.xlim(1E-6, 1E2)\n",
    "plt.legend(frameon=False, fontsize = 15)\n",
    "plt.xlabel(r'$\\tau/\\rm s$', fontsize=20)\n",
    "plt.ylabel(r'$\\gamma/\\Omega$', fontsize=20)\n",
    "fig = plt.gcf()\n",
    "fig.set_size_inches(6.472, 4)\n",
    "plt.show()"
   ]
  },
  {
   "cell_type": "code",
   "execution_count": null,
   "id": "8874b9d3",
   "metadata": {},
   "outputs": [],
   "source": []
  },
  {
   "cell_type": "markdown",
   "id": "a5709674",
   "metadata": {},
   "source": [
    "## 2.3 Recover the impedance with the DRT obtained from RR"
   ]
  },
  {
   "cell_type": "code",
   "execution_count": 18,
   "id": "616d83c0",
   "metadata": {},
   "outputs": [],
   "source": [
    "gamma_0 = x_RR.value[1:]\n",
    "Z_re_pretrain = x_RR.value[0] + A_re_RR@gamma_0\n",
    "Z_im_pretrain = A_im_RR@gamma_0\n",
    "Z_pretrain = Z_re_pretrain + 1j*Z_im_pretrain"
   ]
  },
  {
   "cell_type": "code",
   "execution_count": null,
   "id": "bba5ac0a",
   "metadata": {},
   "outputs": [],
   "source": []
  },
  {
   "cell_type": "markdown",
   "id": "604472be",
   "metadata": {},
   "source": [
    "## 2.4 Nyquist plot of the experimental, exact, and RR-recovered impedances"
   ]
  },
  {
   "cell_type": "code",
   "execution_count": null,
   "id": "d55d634c",
   "metadata": {},
   "outputs": [],
   "source": [
    "plt.plot(np.real(Z_exact), -np.imag(Z_exact), linewidth=4, color='black', label='exact')\n",
    "plt.plot(np.real(Z_pretrain), -np.imag(Z_pretrain), linestyle=':', linewidth=4, color='green', label='pretrain')\n",
    "\n",
    "plt.axis([0,70,-40,37.5])\n",
    "plt.xticks(np.arange(0, 70, step=10))\n",
    "plt.legend(frameon=False, fontsize = 15)\n",
    "plt.gca().set_aspect('equal', adjustable='box')\n",
    "plt.rcParams['text.latex.preamble'] = r'\\usepackage{amsmath}'\n",
    "plt.xlabel(r'$Z_{\\rm re}/\\Omega$', fontsize = 20)\n",
    "plt.ylabel(r'$-Z_{\\rm im}/\\Omega$', fontsize = 20)\n",
    "fig = plt.gcf()\n",
    "fig.set_size_inches(6.472, 4)\n",
    "plt.show()"
   ]
  },
  {
   "cell_type": "code",
   "execution_count": null,
   "id": "d466fba1",
   "metadata": {},
   "outputs": [],
   "source": []
  },
  {
   "cell_type": "markdown",
   "id": "19e82247",
   "metadata": {},
   "source": [
    "# 3. Normalization"
   ]
  },
  {
   "cell_type": "code",
   "execution_count": null,
   "id": "2fd35d58",
   "metadata": {},
   "outputs": [],
   "source": [
    "# First normalize the Zexp based on RR\n",
    "R_inf_RR = x_RR.value[0]\n",
    "R_ct_RR = np.trapz(x_RR.value[1:], log_tau_vec_RR.flatten())\n",
    "Z_exp_norm = (Z_exp-R_inf_RR)/R_ct_RR\n",
    "\n",
    "# Then normalize the gamma the obtained gamma's\n",
    "gamma_RR = x_RR.value[1:].reshape(N_tau_RR,1)\n",
    "gamma_RR_norm = gamma_RR/R_ct_RR"
   ]
  },
  {
   "cell_type": "code",
   "execution_count": null,
   "id": "a011e0ef",
   "metadata": {},
   "outputs": [],
   "source": []
  },
  {
   "cell_type": "markdown",
   "id": "5209dcac",
   "metadata": {},
   "source": [
    "# 4. Pretraining of the deep neural network (DNN)"
   ]
  },
  {
   "cell_type": "markdown",
   "id": "f501ca2d",
   "metadata": {},
   "source": [
    "## 4.1 Prepare the vectors"
   ]
  },
  {
   "cell_type": "code",
   "execution_count": null,
   "id": "e33c7a10",
   "metadata": {},
   "outputs": [],
   "source": [
    "# gamma from RR and its normalization\n",
    "gamma_RR_torch =  torch.from_numpy(gamma_RR).type(Tensor)\n",
    "gamma_RR_norm_torch =  torch.from_numpy(gamma_RR_norm).type(Tensor)\n",
    "\n",
    "# gamma exact for the NN (we will used it to compute the distances)\n",
    "gamma_exact_NN_torch = torch.from_numpy(gamma_exact_NN).type(Tensor)\n",
    "\n",
    "# torch vectors\n",
    "\n",
    "# log(tau) used for pretraining and full training\n",
    "log_tau_vec_RR_norm_torch = torch.from_numpy(log_tau_vec_RR_norm).type(Tensor)\n",
    "log_tau_vec_NN_norm_torch = torch.from_numpy(log_tau_vec_NN_norm).type(Tensor)\n",
    "\n",
    "# log(tau) used for the integration error computation\n",
    "log_tau_vec_NN_torch = torch.from_numpy(log_tau_vec_NN).type(Tensor)\n",
    "\n",
    "# Z_exp used for inversion\n",
    "Z_exp_re_norm_torch = torch.from_numpy(np.real(Z_exp_norm)).type(Tensor)\n",
    "Z_exp_im_norm_torch = torch.from_numpy(np.imag(Z_exp_norm)).type(Tensor)"
   ]
  },
  {
   "cell_type": "code",
   "execution_count": null,
   "id": "915d2490",
   "metadata": {},
   "outputs": [],
   "source": []
  },
  {
   "cell_type": "markdown",
   "id": "f1ca8ca1",
   "metadata": {},
   "source": [
    "## 4.2 Define the DNN (Section 2.5.4)"
   ]
  },
  {
   "cell_type": "code",
   "execution_count": null,
   "id": "7de6d638",
   "metadata": {},
   "outputs": [],
   "source": [
    "class gamma_elu_layer(nn.Module):\n",
    "\n",
    "    def __init__(self, in_features, out_features):\n",
    "        \n",
    "        super().__init__()\n",
    "        \n",
    "        self.linear = nn.Linear(in_features, out_features, bias=True)        \n",
    "        nn.init.xavier_uniform_(self.linear.weight)\n",
    "        nn.init.uniform_(self.linear.bias)\n",
    "\n",
    "    def forward(self, input):\n",
    "        return F.elu(self.linear(input))\n",
    "\n",
    "class gamma_sine_layer(nn.Module):\n",
    "\n",
    "    def __init__(self, in_features, out_features):\n",
    "        \n",
    "        super().__init__()\n",
    "        \n",
    "        self.linear = nn.Linear(in_features, out_features, bias=True)        \n",
    "        nn.init.xavier_normal_(self.linear.weight)\n",
    "        nn.init.zeros_(self.linear.bias)\n",
    "\n",
    "    def forward(self, input):\n",
    "        return torch.sin(self.linear(input))\n",
    "\n",
    "class gamma_softplus_layer(nn.Module):\n",
    "\n",
    "    def __init__(self, in_features, out_features):\n",
    "        \n",
    "        super().__init__()\n",
    "        \n",
    "        self.linear = nn.Linear(in_features, out_features, bias=True)        \n",
    "        nn.init.xavier_normal_(self.linear.weight)\n",
    "        nn.init.zeros_(self.linear.bias)\n",
    "\n",
    "    def forward(self, input):\n",
    "        return F.softplus(self.linear(input))\n",
    "\n",
    "class gamma_net(nn.Module):\n",
    "    def __init__(self, in_features, hidden_features, hidden_layers, out_features):\n",
    "        super().__init__()\n",
    "        \n",
    "        self.net = []\n",
    "        self.net.append(gamma_sine_layer(in_features, hidden_features))\n",
    "        # self.net.append(gamma_elu_layer(in_features, hidden_features))\n",
    "        \n",
    "        for i in range(hidden_layers):\n",
    "            self.net.append(gamma_softplus_layer(hidden_features, hidden_features))\n",
    "            # self.net.append(gamma_sine_layer(hidden_features, hidden_features))\n",
    "            # self.net.append(gamma_elu_layer(hidden_features, hidden_features))\n",
    "\n",
    "        self.net.append(gamma_softplus_layer(hidden_features, out_features))\n",
    "        # self.net.append(gamma_sine_layer(hidden_features, out_features))\n",
    "        \n",
    "        self.net = nn.Sequential(*self.net)\n",
    "    \n",
    "    def forward(self, coords):\n",
    "        coords = coords.clone().detach().requires_grad_(True) # allows to take derivative w.r.t. input\n",
    "        output = self.net(coords)\n",
    "        return output, coords\n",
    "\n",
    "# Define the model from the gamma_net class\n",
    "model_gamma = gamma_net(in_features=1, out_features=1, hidden_features=32, hidden_layers=10)\n",
    "\n",
    "if cuda:\n",
    "    model_gamma.cuda()\n",
    "\n",
    "print(compute_DRT.count_parameters(model_gamma))"
   ]
  },
  {
   "cell_type": "code",
   "execution_count": null,
   "id": "037db3bb",
   "metadata": {},
   "outputs": [],
   "source": []
  },
  {
   "cell_type": "markdown",
   "id": "82f2a59f",
   "metadata": {},
   "source": [
    "## 4.3 Pretraining step (Section 2.5.2)"
   ]
  },
  {
   "cell_type": "code",
   "execution_count": null,
   "id": "e106b1fb",
   "metadata": {},
   "outputs": [],
   "source": [
    "# Let us first pretrain the model against the RR with the following loss\n",
    "def loss_pretrain_fn(x, gamma):\n",
    "    MSE = torch.sum((x - gamma)**2)    \n",
    "    return MSE\n",
    "\n",
    "# With the following parameters\n",
    "    \n",
    "learning_rate = 1e-3\n",
    "max_iters = 2001\n",
    "optimizer = torch.optim.Adam(model_gamma.parameters(), lr=learning_rate)#, weight_decay=1E-5)\n",
    "\n",
    "# To compute the pre-training loss, we need to port some numpy vectors to pytorch, for now we limit ourselves to two (we will have more later)\n",
    "\n",
    "# Let us now pretrain the model\n",
    "\n",
    "# numpy arrays where solved data will be saved\n",
    "loss_pretrain_store = np.array([])\n",
    "gamma_NN_pretrain_store = np.zeros((N_tau_RR, max_iters+1))\n",
    "\n",
    "# pretrain torch\n",
    "gamma_NN_pretrain_torch, coords = model_gamma(log_tau_vec_RR_norm_torch)\n",
    "loss_pretrain = loss_pretrain_fn(gamma_NN_pretrain_torch, gamma_RR_norm_torch)\n",
    "\n",
    "# store gamma from NN\n",
    "gamma_NN_pretrain_store[:, 0] = gamma_NN_pretrain_torch.detach().cpu().numpy().flatten()\n",
    "# loss and store first value\n",
    "loss_pretrain_store = np.append(loss_pretrain_store, loss_pretrain.item())\n",
    "\n",
    "for t in range(max_iters):\n",
    "\n",
    "    # Forward pass: compute predicted y by passing x to the model.\n",
    "    gamma_NN_pretrain_torch, coords = model_gamma(log_tau_vec_RR_norm_torch)\n",
    "    \n",
    "    # Compute the loss\n",
    "    loss = loss_pretrain_fn(gamma_NN_pretrain_torch, gamma_RR_norm_torch)\n",
    "    \n",
    "    # set grads to zero\n",
    "    optimizer.zero_grad()\n",
    "\n",
    "    # backward pass: compute gradient of the loss with respect to model parameters\n",
    "    loss.backward()\n",
    "\n",
    "    # the step function of the Optimizer updates the NN parameters\n",
    "    optimizer.step()\n",
    "    \n",
    "    # save loss\n",
    "    loss_pretrain_store = np.append(loss_pretrain_store, loss.item())\n",
    "    \n",
    "    # store gamma\n",
    "    gamma_NN_pretrain_store[:, t+1] = gamma_NN_pretrain_torch.detach().cpu().numpy().flatten()\n",
    "    \n",
    "    # and print it\n",
    "    if not t%200:\n",
    "        print('iter=%d; loss=%e' % (t, loss.item()))"
   ]
  },
  {
   "cell_type": "code",
   "execution_count": null,
   "id": "d55bd656",
   "metadata": {},
   "outputs": [],
   "source": []
  },
  {
   "cell_type": "markdown",
   "id": "1f89f8d0",
   "metadata": {},
   "source": [
    "## 4.4 Plot of the exact, RR-recovered, and DNN-pretrained DRTs"
   ]
  },
  {
   "cell_type": "code",
   "execution_count": null,
   "id": "4526197a",
   "metadata": {},
   "outputs": [],
   "source": [
    "plt.semilogx(tau_vec_RR, gamma_exact_RR_norm, linewidth=4, color='blue', label= 'exact')\n",
    "plt.semilogx(tau_vec_RR, gamma_RR_norm, linewidth=4, color='black', label='DRT-RR') \n",
    "plt.semilogx(tau_vec_RR, gamma_NN_pretrain_torch.detach().cpu().numpy().flatten(), 'o', color='red', label='DRT-NN pretrain') \n",
    "\n",
    "plt.xlim(1E-6, 1E2)\n",
    "plt.legend(frameon=False, fontsize = 15)\n",
    "plt.xlabel(r'$\\tau/\\rm s$', fontsize=20)\n",
    "plt.ylabel(r'$\\gamma/\\Omega$', fontsize=20)\n",
    "fig = plt.gcf()\n",
    "fig.set_size_inches(6.472, 4)\n",
    "plt.show()"
   ]
  },
  {
   "cell_type": "code",
   "execution_count": null,
   "id": "d2e79f0d",
   "metadata": {},
   "outputs": [],
   "source": []
  },
  {
   "cell_type": "markdown",
   "id": "55da9213",
   "metadata": {},
   "source": [
    "## 4.5 Recover the impedance with the DRT outputted by the pretrained DNN"
   ]
  },
  {
   "cell_type": "code",
   "execution_count": 2,
   "id": "56853b81",
   "metadata": {},
   "outputs": [
    {
     "ename": "NameError",
     "evalue": "name 'gamma_NN_pretrain_store' is not defined",
     "output_type": "error",
     "traceback": [
      "\u001b[1;31m---------------------------------------------------------------------------\u001b[0m",
      "\u001b[1;31mNameError\u001b[0m                                 Traceback (most recent call last)",
      "\u001b[1;32m~\\AppData\\Local\\Temp\\ipykernel_30600\\3278176840.py\u001b[0m in \u001b[0;36m<module>\u001b[1;34m\u001b[0m\n\u001b[1;32m----> 1\u001b[1;33m \u001b[0mgamma_0\u001b[0m \u001b[1;33m=\u001b[0m \u001b[0mgamma_NN_pretrain_store\u001b[0m\u001b[1;33m[\u001b[0m\u001b[1;33m:\u001b[0m\u001b[1;33m,\u001b[0m\u001b[1;33m-\u001b[0m\u001b[1;36m1\u001b[0m\u001b[1;33m]\u001b[0m\u001b[1;33m*\u001b[0m\u001b[0mR_ct\u001b[0m\u001b[1;33m\u001b[0m\u001b[1;33m\u001b[0m\u001b[0m\n\u001b[0m\u001b[0;32m      2\u001b[0m \u001b[0mZ_re_pretrain\u001b[0m \u001b[1;33m=\u001b[0m \u001b[0mx_RR\u001b[0m\u001b[1;33m.\u001b[0m\u001b[0mvalue\u001b[0m\u001b[1;33m[\u001b[0m\u001b[1;36m0\u001b[0m\u001b[1;33m]\u001b[0m \u001b[1;33m+\u001b[0m \u001b[0mA_re_RR\u001b[0m\u001b[1;33m@\u001b[0m\u001b[0mgamma_0\u001b[0m\u001b[1;33m\u001b[0m\u001b[1;33m\u001b[0m\u001b[0m\n\u001b[0;32m      3\u001b[0m \u001b[0mZ_im_pretrain\u001b[0m \u001b[1;33m=\u001b[0m \u001b[0mA_im_RR\u001b[0m\u001b[1;33m@\u001b[0m\u001b[0mgamma_0\u001b[0m\u001b[1;33m\u001b[0m\u001b[1;33m\u001b[0m\u001b[0m\n\u001b[0;32m      4\u001b[0m \u001b[0mZ_pretrain\u001b[0m \u001b[1;33m=\u001b[0m \u001b[0mZ_re_pretrain\u001b[0m \u001b[1;33m+\u001b[0m \u001b[1;36m1j\u001b[0m\u001b[1;33m*\u001b[0m\u001b[0mZ_im_pretrain\u001b[0m\u001b[1;33m\u001b[0m\u001b[1;33m\u001b[0m\u001b[0m\n",
      "\u001b[1;31mNameError\u001b[0m: name 'gamma_NN_pretrain_store' is not defined"
     ]
    }
   ],
   "source": [
    "gamma_0 = gamma_NN_pretrain_store[:,-1]*R_ct\n",
    "Z_re_pretrain = x_RR.value[0] + A_re_RR@gamma_0\n",
    "Z_im_pretrain = A_im_RR@gamma_0\n",
    "Z_pretrain = Z_re_pretrain + 1j*Z_im_pretrain"
   ]
  },
  {
   "cell_type": "code",
   "execution_count": null,
   "id": "3744bfe1",
   "metadata": {},
   "outputs": [],
   "source": []
  },
  {
   "cell_type": "markdown",
   "id": "658efef5",
   "metadata": {},
   "source": [
    "## 4.6 Nyquist plot of the experimental, exact, and DNN-pretrained impedances"
   ]
  },
  {
   "cell_type": "code",
   "execution_count": null,
   "id": "753e0d75",
   "metadata": {},
   "outputs": [],
   "source": [
    "plt.plot(np.real(Z_exp), -np.imag(Z_exp), 'o', markersize=8, color='red', label='exp')\n",
    "plt.plot(np.real(Z_exact), -np.imag(Z_exact), linewidth=4, color='black', label='exact')\n",
    "plt.plot(np.real(Z_pretrain), -np.imag(Z_pretrain), linestyle=':', linewidth=4, color='green', label='pretrain')\n",
    "\n",
    "plt.axis([0,70,-40,37.5])\n",
    "plt.xticks(np.arange(0, 70, step=10))\n",
    "plt.legend(frameon=False, fontsize = 15)\n",
    "plt.gca().set_aspect('equal', adjustable='box')\n",
    "plt.rcParams['text.latex.preamble'] = r'\\usepackage{amsmath}'\n",
    "plt.xlabel(r'$Z_{\\rm re}/\\Omega$', fontsize = 20)\n",
    "plt.ylabel(r'$-Z_{\\rm im}/\\Omega$', fontsize = 20)\n",
    "fig = plt.gcf()\n",
    "fig.set_size_inches(6.472, 4)\n",
    "plt.show()"
   ]
  },
  {
   "cell_type": "code",
   "execution_count": null,
   "id": "7bea8503",
   "metadata": {},
   "outputs": [],
   "source": []
  },
  {
   "cell_type": "markdown",
   "id": "8d67b6ed",
   "metadata": {},
   "source": [
    "# 5. Training of the DNN"
   ]
  },
  {
   "cell_type": "markdown",
   "id": "1259e9ab",
   "metadata": {},
   "source": [
    "## 5.1 Prepare the training and define the training loss given in (9)"
   ]
  },
  {
   "cell_type": "code",
   "execution_count": null,
   "id": "b36e4b29",
   "metadata": {},
   "outputs": [],
   "source": [
    "# data used in NN is transformed to a pytorch tensor\n",
    "A_re = compute_DRT.compute_A_re(freq_vec, tau_vec_NN)\n",
    "A_im = compute_DRT.compute_A_im(freq_vec, tau_vec_NN)\n",
    "\n",
    "A_re_torch = torch.from_numpy(A_re).type(Tensor)\n",
    "A_im_torch = torch.from_numpy(A_im).type(Tensor)\n",
    "\n",
    "def first_derivative(y, x):\n",
    "    grad_outputs = torch.ones_like(y)\n",
    "    first_derivative_out = torch.autograd.grad(y, [x], grad_outputs=grad_outputs, create_graph=True)[0]\n",
    "    return first_derivative_out\n",
    "\n",
    "def second_derivative(y, x):\n",
    "    first_derivative_out = first_derivative(y, x)    \n",
    "    second_derivative_out = first_derivative(first_derivative_out, x)    \n",
    "    return second_derivative_out\n",
    "\n",
    "def loss_fn(R_inf, gamma, log_tau_norm, A_re, A_im, lambda_0, Z_re, Z_im):\n",
    "    \n",
    "    MSE = 0.0     \n",
    "    MSE_re = torch.sum((R_inf + torch.matmul(A_re,gamma) - Z_re)**2)\n",
    "    MSE_im = torch.sum((torch.matmul(A_im,gamma) - Z_im)**2)\n",
    "\n",
    "    grad = first_derivative(gamma, log_tau_norm).flatten()\n",
    "    zeta = 1/(4*(lambda_0**2))\n",
    "    lambda_delP = 1/zeta*(torch.sqrt(grad.detach()**4+2*zeta)-grad.detach()**2)\n",
    "    MSE_der = torch.trapz(lambda_delP*grad**2,log_tau_norm.detach().flatten())\n",
    "        \n",
    "    MSE = MSE + MSE_re + MSE_im # + MSE_der\n",
    "    return MSE\n",
    "\n",
    "print(compute_DRT.count_parameters(model_gamma))\n",
    "\n",
    "# saving the model for  earlystop, min loss, and optimal\n",
    "check_Early_stop = 0\n",
    "t_min_loss_loop = 0\n",
    "distance_opt = np.inf\n",
    "\n",
    "learning_rate = 1e-4\n",
    "max_iters = 50001\n",
    "optimizer = torch.optim.Adam(model_gamma.parameters(), lr=learning_rate)#, weight_decay=1E-5)\n",
    "\n",
    "R_inf_torch = torch.tensor([0.0], requires_grad=True, device=\"cpu\").type(Tensor)\n",
    "optimizer.add_param_group({'params': R_inf_torch})\n",
    "print(compute_DRT.count_parameters(model_gamma))\n",
    "\n",
    "# we will store key neural network results here\n",
    "loss_store = np.array([])\n",
    "distance_store = np.array([])\n",
    "gamma_NN_store = torch.zeros((N_tau_NN,max_iters+1)).type(Tensor)\n",
    "R_inf_store = torch.zeros(max_iters+1).type(Tensor)\n",
    "\n",
    "# the gamma is stored here\n",
    "gamma_NN_norm, coords = model_gamma(log_tau_vec_NN_norm_torch)\n",
    "gamma_NN_store[:, 0] = gamma_NN_norm.detach().flatten()\n",
    "\n",
    "loss = loss_fn(R_inf_torch, gamma_NN_norm, coords, A_re_torch, A_im_torch, lambda_0, Z_exp_re_norm_torch, Z_exp_im_norm_torch)\n",
    "\n",
    "loss_store = np.append(loss_store, loss.item())\n",
    "R_inf_store[0] = R_inf_RR + R_ct_RR*R_inf_torch[0].detach().item()\n",
    "\n",
    "squared_distance = torch.trapz((R_ct_RR*gamma_NN_norm.detach().T-gamma_exact_NN_torch.T)**2,log_tau_vec_NN_norm_torch.T)\n",
    "distance_store = np.append(distance_store, sqrt(squared_distance.item()))"
   ]
  },
  {
   "cell_type": "code",
   "execution_count": null,
   "id": "d9e52dd0",
   "metadata": {},
   "outputs": [],
   "source": []
  },
  {
   "cell_type": "markdown",
   "id": "6e7214f0",
   "metadata": {},
   "source": [
    "## 5.2 Training step (Section 2.5.3)"
   ]
  },
  {
   "cell_type": "code",
   "execution_count": null,
   "id": "525e8257",
   "metadata": {},
   "outputs": [],
   "source": [
    "for t in range(max_iters):\n",
    "\n",
    "    # Forward pass: compute predicted y by passing x to the model.\n",
    "    gamma_NN, coords = model_gamma(log_tau_vec_NN_norm_torch)\n",
    "\n",
    "    # Compute the loss\n",
    "    loss = loss_fn(R_inf_torch, gamma_NN, coords, A_re_torch, A_im_torch, lambda_0, Z_exp_re_norm_torch, Z_exp_im_norm_torch)\n",
    "    \n",
    "    optimizer.zero_grad()\n",
    "    loss.backward()\n",
    "    optimizer.step()\n",
    "    \n",
    "    # save loss\n",
    "    loss_store = np.append(loss_store, loss.item())\n",
    "                \n",
    "    # store gamma\n",
    "    gamma_NN_store[:, t+1] = R_ct_RR*gamma_NN.detach().flatten()\n",
    "    \n",
    "    # save distance\n",
    "    squared_distance = torch.trapz((R_ct_RR*gamma_NN.detach().T-gamma_exact_NN_torch.T)**2,log_tau_vec_NN_norm_torch.T)\n",
    "    distance_store = np.append(distance_store, sqrt(squared_distance.item()))\n",
    "    \n",
    "    # save of the optimal model\n",
    "    distance_loc = sqrt(squared_distance)\n",
    "    if distance_loc<distance_opt:\n",
    "        torch.save(model_gamma.state_dict(), './results/model_gamma_opt.pth')\n",
    "        Iter_Opt = t+1\n",
    "        distance_opt = distance_loc\n",
    "    \n",
    "    # store R_inf\n",
    "    R_inf_store[t+1] = R_inf_RR + R_ct_RR*R_inf_torch[0].detach().item()\n",
    "\n",
    "    # and print it\n",
    "    if not t%200:\n",
    "        print('iter=%d; loss=%e' % (t, loss.item()))   \n",
    "\n",
    "gamma_0 = gamma_NN_pretrain_store[:,-1]*R_ct_RR\n",
    "Z_re_pretrain = x_RR.value[0] + A_re_RR@gamma_0\n",
    "Z_im_pretrain = A_im_RR@gamma_0\n",
    "Z_pretrain = Z_re_pretrain + 1j*Z_im_pretrain\n",
    "\n",
    "iter_opt = np.argmin(distance_store)\n",
    "iter_min_loss = np.argmin(loss_store)\n",
    "iter_early_stop = np.flatnonzero(np.abs(np.diff(loss_store))<1E-10)\n",
    "iter_guess = 2000\n",
    "\n",
    "gamma_early_stop = gamma_NN_store[:,iter_early_stop[1]]\n",
    "gamma_opt = gamma_NN_store[:,iter_opt]\n",
    "gamma_min_loss = gamma_NN_store[:,iter_min_loss]\n",
    "gamma_guess = gamma_NN_store[:,iter_guess]\n",
    "\n",
    "\n",
    "Z_re_early_stop = R_inf_store[iter_early_stop[1]] + torch.matmul(A_re_torch,gamma_early_stop)\n",
    "Z_im_early_stop = torch.matmul(A_im_torch,gamma_early_stop)\n",
    "Z_early_stop = Z_re_early_stop.cpu().numpy()+ 1j*Z_im_early_stop.cpu().numpy()\n",
    "\n",
    "Z_re_opt = R_inf_store[iter_opt] + torch.matmul(A_re_torch,gamma_opt)\n",
    "Z_im_opt = torch.matmul(A_im_torch,gamma_opt)\n",
    "Z_opt = Z_re_opt.cpu().numpy()+ 1j*Z_im_opt.cpu().numpy()\n",
    "\n",
    "Z_re_min_loss = R_inf_store[iter_min_loss] + torch.matmul(A_re_torch,gamma_min_loss)\n",
    "Z_im_min_loss = torch.matmul(A_im_torch,gamma_min_loss)\n",
    "Z_min_loss = Z_re_min_loss.cpu().numpy()+ 1j*Z_im_min_loss.cpu().numpy()\n",
    "\n",
    "Z_re_guess = R_inf_store[iter_min_loss] + torch.matmul(A_re_torch,gamma_guess)\n",
    "Z_im_guess = torch.matmul(A_im_torch,gamma_guess)\n",
    "Z_guess = Z_re_guess.cpu().numpy()+ 1j*Z_im_guess.cpu().numpy()"
   ]
  },
  {
   "cell_type": "code",
   "execution_count": null,
   "id": "2f723817",
   "metadata": {},
   "outputs": [],
   "source": []
  },
  {
   "cell_type": "markdown",
   "id": "baf0ff9b",
   "metadata": {},
   "source": [
    "## 5.3 Plot of the exact, DNN-pretrained, and DNN-trained DRTs (Figure 7 (a))"
   ]
  },
  {
   "cell_type": "code",
   "execution_count": null,
   "id": "5495a668",
   "metadata": {},
   "outputs": [],
   "source": [
    "plt.semilogx(tau_vec_RR, gamma_exact_RR.flatten(), linewidth=4, color='red', label= 'exact')\n",
    "plt.semilogx(tau_vec_RR, x_RR.value[1:], linewidth=2, color='green', label='pretrain') \n",
    "plt.semilogx(tau_vec_NN, gamma_opt.cpu().flatten(), '-', linewidth=2, color='blue', label='opt') \n",
    "\n",
    "plt.xlim(1E-6, 1E2)\n",
    "plt.legend(frameon=False, fontsize = 15)\n",
    "plt.xlabel(r'$\\tau/\\rm s$', fontsize=20)\n",
    "plt.ylabel(r'$\\gamma/\\Omega$', fontsize=20)\n",
    "fig = plt.gcf()\n",
    "fig.set_size_inches(5, 4)\n",
    "plt.show()"
   ]
  },
  {
   "cell_type": "code",
   "execution_count": null,
   "id": "b9d68753",
   "metadata": {},
   "outputs": [],
   "source": []
  },
  {
   "cell_type": "markdown",
   "id": "31e52924",
   "metadata": {},
   "source": [
    "## 5.4 Nyquist plot of the experimental, exact, DNN-pretrained, and DNN-trained impedances (Figure 7 (b))"
   ]
  },
  {
   "cell_type": "code",
   "execution_count": null,
   "id": "97b198c8",
   "metadata": {},
   "outputs": [],
   "source": [
    "plt.plot(np.real(Z_exp), -np.imag(Z_exp), 'o', markersize=8, color='red', label='exp')\n",
    "plt.plot(np.real(Z_exact), -np.imag(Z_exact), linewidth=4, color='black', label='exact')\n",
    "plt.plot(np.real(Z_pretrain), -np.imag(Z_pretrain), linestyle=':', linewidth=4, color='green', label='pretrain')\n",
    "plt.plot(np.real(Z_opt), -np.imag(Z_opt), linewidth=4, color='blue', label='opt')\n",
    "\n",
    "plt.axis([0,70,-2.5,45])\n",
    "plt.xticks(np.arange(0, 70, step=10))\n",
    "plt.legend(frameon=False, fontsize = 15, loc='upper right')\n",
    "plt.gca().set_aspect('equal', adjustable='box')\n",
    "plt.rcParams['text.latex.preamble'] = r'\\usepackage{amsmath}'\n",
    "plt.xlabel(r'$Z_{\\rm re}/\\Omega$', fontsize = 20)\n",
    "plt.ylabel(r'$-Z_{\\rm im}/\\Omega$', fontsize = 20)\n",
    "fig = plt.gcf()\n",
    "fig.set_size_inches(6.472, 4)\n",
    "plt.show()"
   ]
  },
  {
   "cell_type": "code",
   "execution_count": null,
   "id": "bdc6303a",
   "metadata": {},
   "outputs": [],
   "source": []
  },
  {
   "cell_type": "markdown",
   "id": "a53d88a5",
   "metadata": {},
   "source": [
    "## 5.5 DNN loss and error"
   ]
  },
  {
   "cell_type": "code",
   "execution_count": null,
   "id": "866752cd",
   "metadata": {},
   "outputs": [],
   "source": [
    "fig, ax1 = plt.subplots()\n",
    "\n",
    "color = 'tab:red'\n",
    "ax1.set_xlabel(r'iter', fontsize=20)\n",
    "ax1.set_ylabel(r'$\\mathcal{L}$/$\\Omega^2$', color=color, fontsize=20)\n",
    "ax1.plot(loss_store, linewidth=4, color=color)\n",
    "ax1.plot(iter_opt, loss_store[iter_opt], 'o', color='black')\n",
    "ax1.plot(iter_min_loss, loss_store[iter_min_loss], 's', color='blue')\n",
    "ax1.tick_params(axis='y', labelcolor=color)\n",
    "plt.axis([0,1E4,0,0.08])\n",
    "\n",
    "\n",
    "ax2 = ax1.twinx()  # instantiate a second axes that shares the same x-axis\n",
    "\n",
    "color = 'tab:blue'\n",
    "ax2.set_ylabel(r'$\\varepsilon_\\gamma$/$\\Omega$', fontsize=20, color=color)\n",
    "ax2.plot(distance_store, linewidth=4, color=color)\n",
    "ax2.plot(iter_opt, distance_store[iter_opt], 'o', color='black')\n",
    "ax2.plot(iter_min_loss, distance_store[iter_min_loss], 's', color='blue')\n",
    "plt.plot(np.array([iter_early_stop[1], iter_early_stop[1]]), np.array([0, 4]), \n",
    "              ':', linewidth=3, color=\"red\")\n",
    "plt.plot(np.array([iter_opt, iter_opt]), np.array([0, 4]), \n",
    "              ':', linewidth=3, color=\"blue\")\n",
    "plt.axis([0,1E4,0,4])\n",
    "ax2.tick_params(axis='y', which='minor', labelcolor=color)\n",
    "ax2.tick_params(axis='y', which='major', labelcolor=color)\n",
    "plt.setp(ax2.get_yminorticklabels(), visible=False)\n",
    "\n",
    "plt.text(3800, 2.5, r'early stopping', \n",
    "         {'color': 'red', 'fontsize': 20, 'ha': 'center', 'va': 'center', \n",
    "          'rotation': 90, \n",
    "          'bbox': dict(boxstyle=\"round\", fc=\"white\", ec=\"red\", pad=0.2)})\n",
    "\n",
    "plt.text(6000, 2, r'optimal', \n",
    "         {'color': 'blue', 'fontsize': 20, 'ha': 'center', 'va': 'center', \n",
    "          'rotation': 90, \n",
    "          'bbox': dict(boxstyle=\"round\", fc=\"white\", ec=\"blue\", pad=0.2)})\n",
    "\n",
    "fig.tight_layout()  # otherwise the right y-label is slightly clipped\n",
    "fig.set_size_inches(6, 4)\n",
    "plt.show()"
   ]
  },
  {
   "cell_type": "code",
   "execution_count": null,
   "id": "0ea69d33",
   "metadata": {},
   "outputs": [],
   "source": []
  }
 ],
 "metadata": {
  "kernelspec": {
   "display_name": "Python 3 (ipykernel)",
   "language": "python",
   "name": "python3"
  },
  "language_info": {
   "codemirror_mode": {
    "name": "ipython",
    "version": 3
   },
   "file_extension": ".py",
   "mimetype": "text/x-python",
   "name": "python",
   "nbconvert_exporter": "python",
   "pygments_lexer": "ipython3",
   "version": "3.9.13"
  }
 },
 "nbformat": 4,
 "nbformat_minor": 5
}
